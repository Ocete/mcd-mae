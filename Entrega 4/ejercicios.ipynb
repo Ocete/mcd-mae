{
 "cells": [
  {
   "cell_type": "markdown",
   "id": "51f8defd",
   "metadata": {},
   "source": [
    "%%html\n",
    "<style>\n",
    "    .exercise {\n",
    "        font-style: normal;\n",
    "        text-align: justify;\n",
    "        margin-left: 0px;\n",
    "        margin-right: 10px;\n",
    "        margin-top: 10px;\n",
    "        margin-bottom: 0px;\n",
    "        padding: 10px;\n",
    "        display: block;\n",
    "        border-radius: 20px;\n",
    "        background-color: #AFEEEE;\n",
    "    }\n",
    "</style>"
   ]
  },
  {
   "cell_type": "markdown",
   "id": "1c60e89a",
   "metadata": {},
   "source": [
    "<center style=\"font-size:25px;padding-bottom:10px;\"><b>Métodos Avanzados en Estadística</b></center>\n",
    "<center style=\"font-size:22px;padding-bottom:10px;\"><b>Entrega 4: Clasificación</b></center>\n",
    "<center style=\"font-size:20px;padding-bottom:10px;\">José Antonio Álvarez Ocete</center>"
   ]
  },
  {
   "cell_type": "markdown",
   "id": "08aea1d3",
   "metadata": {},
   "source": [
    "<div class=\"exercise\">\n",
    "<h1> Ejercicio 4</h1> <a href='#Ejercicio-4' class='anchor-link'>¶</a>\n",
    "\n",
    "Sea $(X,Y) ∈ \\mathbb R^2$ un vector aleatorio tal que la distribución de $Y$ condicionada a $X$ es de Bernoulli de parámetro $(1 + e^{−\\beta X})^{−1}$, donde $\\beta \\in \\mathbb R$, y $\\mathbb P[Y = 0] = \\mathbb P[Y = 1] = 1/2$. <br>\n",
    "\n",
    "Supongamos que queremos predecir $Y$ a partir de $X$. Responde a las siguientes preguntas, dejando el resultado en función del parámetro $\\beta$. <br>\n",
    "\n",
    "<b>a)</b> Determina la regla de clasificación óptima en este modelo. <br>\n",
    "\n",
    "    \n",
    "<b>b)</b> Si $X$ tiene distribución uniforme en $(0, 1)$, calcula el error de la regla de clasificación del apartado anterior (error Bayes). <br>\n",
    "\n",
    "<b>c)</b> Si $X$ tiene distribución uniforme en $(0, 1)$, calcula $\\lim_{n \\rightarrow \\infty} \\mathbb [L_n]$, donde $L_n$ es la probabilidad de error correspondiente al clasificador del vecino m´ás próximo. Compara el resultado con el del apartado anterior.\n",
    "</div>"
   ]
  },
  {
   "cell_type": "markdown",
   "id": "9e648868",
   "metadata": {},
   "source": [
    "### Solución a)\n",
    "\n",
    "En primer lugar, sean $f_Y(y), f_X(x), f_{X|Y}(x|y)$ y $f_{X|Y}(x|y)$ las funciones de densidad de $Y$, $X$ y las respectivas condicionadas. Por hipótesis sabemos que $Y|X$ sigue una Bernuilli de parámetro $(1 + e^{−\\beta X})^{−1}$:\n",
    "\n",
    "$$\n",
    "    f_{Y|X}(y|x) = p(x)^k \\; (1-p(x))^{1-k}\n",
    "$$\n",
    "\n",
    "donde $p(x) = (1 + e^{−\\beta X})^{−1}$ es la probabilidad de que $Y$ tome el valor $1$ y $k \\in \\{0,1\\}$ son los posibles valores de la $X$. Utilizando el teorema de Bayes obtenemos la distribución de $X|Y$:\n",
    "\n",
    "$$\n",
    "    f_{X|Y}(x|y) = \\frac{f_{Y|X}(y|x) \\; f_X(x)}{f_Y(y)} = \\frac{f_X(x)}{f_Y(k)} p(x)^k \\; (1-p(x))^{1-k}\n",
    "$$\n",
    "\n",
    "Sabiendo que $\\mathbb P[Y = y] = f_Y(y) = \\pi_i = 1/2$ para $y \\in \\{0,1\\}$ por hipótesis obtenemos las distribuciones marginales:\n",
    "\n",
    "$$\n",
    "    f_0(x) = f_{X|Y=0}(x|y=0) = 2 f_X(x) \\; (1-p(x)) = 2 f_X(x) \\left( 1- \\frac{1}{1 + e^{−\\beta x}} \\right)\\\\\n",
    "    f_1(x) = f_{X|Y=1}(x|y=1) = 2 f_X(x) \\; p(x) = 2 f_X(x) \\frac{1}{1 + e^{−\\beta x}}\n",
    "$$\n",
    "\n",
    "Una vez obtenidas las distribuciones marginales, calculamos $\\eta(x)$. Para ello \n",
    "\n",
    "$$\n",
    "\\begin{align*}\n",
    "    \\eta(x) & = \\mathbb E[Y=1 | X] = \\mathbb P[Y=1 | X] = \\frac{\\pi_1 f_1(x)}{\\pi_0 f_0(x) + \\pi_1 f_1(x)} \\\\\n",
    "    & = \\frac{ 2 f_X(x) \\frac{1}{1 + e^{−\\beta x} } }{ 2 f_X(x) \\left( 1 - \\frac{1}{1 + e^{−\\beta x}}\\right) + 2 f_X(x) \\frac{1}{1 + e^{−\\beta x}}} \\\\\n",
    "    & = \\frac{1}{1 + e^{−\\beta x}}\n",
    "\\end{align*}\n",
    "$$\n",
    "\n",
    "Finalmente, calculamos la regla óptima a partir de $\\eta(x)$. Sabemos que asigna $1$ a $x$ si y sólo si\n",
    "\n",
    "$$\n",
    "\\begin{align*}\n",
    "    \\eta(x) > \\frac{1}{2} & \\leftrightarrow \\frac{1}{1 + e^{−\\beta x}} > \\frac{1}{2} \\\\\n",
    "    & \\leftrightarrow 1 > e^{−\\beta x} \\\\\n",
    "    & \\leftrightarrow 1 < e^{\\beta x} \\\\\n",
    "    & \\leftrightarrow 0 < \\beta x.\n",
    "\\end{align*}\n",
    "$$\n",
    "\n",
    "Por lo tanto, la regla óptima es la siguiente:\n",
    "\n",
    "$$\n",
    "g^*(x) =\n",
    "\\begin{cases}\n",
    "    1 \\quad \\text{si } \\beta x > 0 \\\\\n",
    "    0 \\quad \\text{si } \\beta x \\le 0 \\\\\n",
    "\\end{cases}\n",
    "$$\n",
    "\n",
    "Nos podríamos haber dado cuenta de que esta era la regla ótima de forma mucho más directa: estamos clasificando $1$ si la función logística es mayor que \\frac{1}{2}, lo que es esencialmente a regresión logística:\n",
    "\n",
    "$$\n",
    "g^*(x) =\n",
    "\\begin{cases}\n",
    "    1 \\quad \\text{si } \\eta(x) > \\frac{1}{2} \\\\\n",
    "    0 \\quad \\text{si } \\eta(x) \\le \\frac{1}{2} \\\\\n",
    "\\end{cases}\n",
    "$$\n",
    "\n",
    "Como comprobación adicional podemos computar esta regla a partir de las distribuciones marginales. Puesto que son equivalentes, hemos de obtener el mismo resultado. Sabemos que la regla óptima asigna $1$ a $x$ si y sólo si\n",
    "\n",
    "$$\n",
    "\\begin{align*}\n",
    "    \\frac{\\pi_1 f_1(x)}{\\pi_0 f_0(x)} > 1 & \\leftrightarrow \\frac{ 2 f_X(x) \\frac{1}{1 + e^{−\\beta x} } }{ 2 f_X(x) \\left( 1 - \\frac{1}{1 + e^{−\\beta x}}\\right)} > 1 \\\\\n",
    "    & \\leftrightarrow \\frac{ 1 }{1 + e^{−\\beta x} - 1} > 1 \\\\\n",
    "    & \\leftrightarrow e^{\\beta x} > 1 \\\\\n",
    "    & \\leftrightarrow \\beta x > 0,\n",
    "\\end{align*}\n",
    "$$\n",
    "\n",
    "como esperábamos."
   ]
  },
  {
   "cell_type": "markdown",
   "id": "715b953d",
   "metadata": {},
   "source": [
    "### Solución b)\n",
    "\n",
    "Puesto que la variable $X \\sim U(0,1):$\n",
    "\n",
    "$$\n",
    "    f_X(x) = \\begin{cases}\n",
    "        1 \\quad & \\text{si } x \\in [0,1] \\\\\n",
    "        0 \\quad & \\text{en otro caso}\n",
    "    \\end{cases}\n",
    "$$\n",
    "\n",
    "Calculemos el error Bayes:\n",
    "\n",
    "$$\n",
    "\\begin{align*}\n",
    "    L^* & = \\frac{1}{2} - \\frac{1}{2} \\mathbb E\\left[ \\left|2\\eta(x) - 1\\right| \\right] \\\\\n",
    "    & = \\frac{1}{2} - \\frac{1}{2} \\int_{x \\in \\mathbb R} \\left| \\; 2 \\frac{1}{1 + e^{−\\beta x}} - 1 \\right| f_X(x) \\text dx \\\\\n",
    "    & = \\frac{1}{2} - \\frac{1}{2} \\int_{x \\in \\mathbb R} \\left| \\frac{1 - e^{−\\beta x}}{1 + e^{−\\beta x}} \\right| f_X(x) \\text dx \\\\\n",
    "    & = \\frac{1}{2} - \\frac{1}{2} \\int_0^1 \\left| \\frac{1 - e^{−\\beta x}}{1 + e^{−\\beta x}} \\right| \\text dx\n",
    "\\end{align*}\n",
    "$$\n",
    "\n",
    "Para dar una descripción más específica del error Bayes hemos de distinguir casos según el valor absoluto. Veamos cuando el interior toma valor positivo:\n",
    "\n",
    "$$\n",
    "\\begin{align*}\n",
    "    \\frac{1 - e^{−\\beta}}{1 + e^{−\\beta}} > 0 & \\leftrightarrow 1 - e^{−\\beta} > 0 \\\\\n",
    "    & \\leftrightarrow e^{−\\beta} < 1 \\\\\n",
    "    & \\leftrightarrow −\\beta < 0 \\\\\n",
    "    & \\leftrightarrow \\beta > 0 \\\\\n",
    "\\end{align*}\n",
    "$$\n",
    "\n",
    "Calculemos por separado la integral centrándonos en el caso positivo ($\\beta > 0$):\n",
    "\n",
    "$$\n",
    "\\begin{align*}\n",
    "    \\int_{x \\in \\mathbb R}\\frac{1 - e^{−\\beta x}}{1 + e^{−\\beta x}} f_X(x) \\text dx\n",
    "    & = \\int_0^1 \\frac{1}{1 + e^{−\\beta x}} \\text dx - \\int_0^1 \\frac{e^{−\\beta x}}{1 + e^{−\\beta x}} \\text dx \\\\\n",
    "    & \\stackrel{(*)}{=} \\int_1^{e^{−\\beta}} \\frac{1}{1 + u} \\frac{\\text du}{-\\beta u} - \\frac{1}{-\\beta} \\int_0^1 \\frac{-\\beta e^{−\\beta x}}{1 + e^{−\\beta x}} \\text dx \\\\\n",
    "    & = \\frac{1}{-\\beta} \\int_1^{e^{−\\beta}} \\left(\\frac{1}{u} - \\frac{1}{1 + u} \\right)\\text du - \\frac{1}{-\\beta} \\left( \\log\\left(1 + e^{−\\beta x}\\right) \\right]^1_0 \\text dx \\\\\n",
    "    & = \\frac{1}{-\\beta} \\left(\\log u - \\log(1+u)\\right]_1^{e^{−\\beta}} - \\frac{1}{-\\beta} \\left( \\log\\left(1 + e^{−\\beta x}\\right) \\right]^1_0 \\text dx \\\\\n",
    "    & = \\frac{1}{-\\beta} \\left(\\log e^{−\\beta x} - \\log(1+e^{−\\beta x})\\right]_0^1 - \\frac{1}{-\\beta} \\left( \\log\\left(1 + e^{−\\beta x}\\right) \\right]^1_0 \\text dx \\\\\n",
    "    & = \\frac{1}{-\\beta} \\left(−\\beta x - 2 \\log(1+e^{−\\beta x})\\right]_0^1 \\\\\n",
    "    & = 1 + \\frac{2}{\\beta} \\left( \\log(1+e^{−\\beta}) - \\log 2)\\right) \\\\\n",
    "    & = 1 + \\frac{2}{\\beta} \\log \\frac{1+e^{−\\beta}}{2} \\\\\n",
    "\\end{align*}\n",
    "$$\n",
    "\n",
    "Donde en $(*)$ hemos aplicado el cambio de variable $u=e^{-\\beta x}, \\text du = -\\beta e^{-\\beta x} \\text dx$. Adicionalmente, en $(*)$ hemos asumido que $\\beta \\neq 0$ pues dividimos por dihco valor. Es sencillo darse cuenta de que si sustitumos $\\beta=0$ en la expresión inicial de $L^*$ obtenemos $L^* = \\frac{1}{2}$.\n",
    "\n",
    "Finalmente podemos obtener una expresión reducida para el error Bayes distinguiendo casos:\n",
    "\n",
    "$$\n",
    "L^* = \\frac{1}{2} - \\frac{1}{2} \\int_0^1 \\left| \\frac{1 - e^{−\\beta x}}{1 + e^{−\\beta x}} \\right| \\text dx = \n",
    "\\begin{cases}\n",
    "    \\frac{1}{2} - \\frac{1}{2} \\left( 1 + \\frac{2}{\\beta} \\log \\frac{1+e^{−\\beta}}{2} \\right) = - \\frac{1}{\\beta} \\log \\frac{1+e^{−\\beta}}{2} \\quad & \\text{si } \\beta > 0 \\\\\n",
    "        \\frac{1}{2}  \\quad & \\beta = 0 \\\\\n",
    "    \\frac{1}{2} + \\frac{1}{2} \\left( 1 + \\frac{2}{\\beta} \\log \\frac{1+e^{−\\beta}}{2} \\right) = 1 + \\frac{1}{\\beta} \\log \\frac{1+e^{−\\beta}}{2} \\quad & \\text{si } \\beta < 0 \\\\\n",
    "\\end{cases}\n",
    "$$\n",
    "\n",
    "Podemos visualizar este error utilizando [Geogebra](https://www.geogebra.org/graphing/vebjrwmy):\n",
    "\n",
    "![figures/4_2](figures/4_2.PNG)\n",
    "\n",
    "Finalmente, realicemos una rápida comprobación de que nuestros cálculos son correctos computando el error Bayes basándonos unicamente en las distribuciones marginales:\n",
    "\n",
    "$$\n",
    "\\begin{align*}\n",
    "    L^* & = \\frac{1}{2} - \\frac{1}{4} \\int_{x \\in \\mathbb R} \\left|f_0(x) - f_1(x) \\right| \\text dx\\\\\n",
    "    & = \\frac{1}{2} - \\frac{1}{4} \\int_{x \\in \\mathbb R} \\left| \\; 2 f_X(x) \\left( 1 - \\frac{1}{1 + e^{-\\beta x}} \\right) - 2 f_X(x) \\frac{1}{1 + e^{-\\beta x}} \\right| \\text dx \\\\\n",
    "    & = \\frac{1}{2} - \\frac{1}{4} \\int_{x \\in \\mathbb R} 2 f_X(x) \\left| 1 - \\frac{1}{1 + e^{-\\beta x}} - \\frac{1}{1 + e^{-\\beta x}} \\right| \\text dx \\\\\n",
    "    & = \\frac{1}{2} - \\frac{1}{2} \\int_{x \\in \\mathbb R} f_X(x) \\left| 1 - \\frac{2}{1 + e^{-\\beta x}}\\right| \\text dx \\\\\n",
    "    & = \\frac{1}{2} - \\frac{1}{2} \\int_0^1 \\left| \\frac{-1 + e^{-\\beta}}{1 + e^{-\\beta}}\\right| \\text dx \\\\\n",
    "    & = \\frac{1}{2} - \\frac{1}{2} \\int_0^1 \\left| \\frac{1 - e^{-\\beta}}{1 + e^{-\\beta}}\\right| \\text dx, \\\\\n",
    "\\end{align*}\n",
    "$$\n",
    "\n",
    "que coincide con el primer valor computado para $L^*$ al principio del apartado.\n"
   ]
  },
  {
   "cell_type": "markdown",
   "id": "2da2c0c4",
   "metadata": {},
   "source": [
    "### Solución c)\n",
    "\n",
    "Sea $(X_{(1)}, Y_{(1)})$ el vecino más próximo a $(X, Y)$. Como vimos en clase, conforme $n$ tiende a infinito, el vecino más cercano tiende $(X, Y)$ y obtenemos que el error esperado de este método cumple\n",
    "\n",
    "$$\n",
    "    \\mathbb E[L_m] \\; \\substack{n \\rightarrow \\infty \\\\ \\longrightarrow} \\; L_{1NN} \\equiv 2 \\mathbb E[ \\; \\eta(x) (1 - \\eta(x)) \\; ]\n",
    "$$\n",
    "\n",
    "Computemos este valor para nuestro caso particular:\n",
    "\n",
    "$$\n",
    "\\begin{align*}\n",
    "    L_{1NN} & = 2 \\int_{x \\in \\mathbb R} f_X(x) \\; \\eta(x) \\; (1 - \\eta(x)) \\text dx \\\\\n",
    "    & = 2 \\int_0^1  \\; \\frac{1}{1 + e^{-\\beta x}} \\left(1 - \\frac{1}{1 + e^{-\\beta x}}\\right) \\text dx\\\\\n",
    "    & = 2 \\int_0^1  \\frac{e^{-\\beta x}}{(1 + e^{-\\beta x})^2} \\text dx \\\\\n",
    "    & = \\frac{2}{-\\beta} \\int_0^1 \\frac{-\\beta e^{-\\beta x}}{(1 + e^{-\\beta x})^2} \\text dx \\\\\n",
    "    & = \\frac{2}{-\\beta} \\left( \\frac{-1}{1 + e^{-\\beta x}} \\right]_0^1 \\\\\n",
    "    & = \\frac{2}{\\beta} \\left( \\frac{1}{1 + e^{-\\beta}} - \\frac{1}{2} \\right) \\\\\n",
    "    & = \\frac{2}{\\beta} \\left( \\frac{2}{1 + e^{-\\beta}} - 1 \\right) \\\\\n",
    "    & = \\frac{1}{\\beta} \\frac{1 - e^{-\\beta}}{1 + e^{-\\beta}} \\\\\n",
    "    & = \\frac{1}{\\beta} \\frac{e^{\\beta} - 1}{e^{\\beta} + 1} = \\frac{1}{\\beta} \\tanh \\left( \\frac{\\beta}{2}\\right)\\\\\n",
    "\\end{align*}\n",
    "$$\n",
    "\n",
    "Podemos comprobar que el resultado de esta integral es correcto utilizando [WolframAlpha](https://www.wolframalpha.com/input/?i2d=true&i=2Integrate%5BDivide%5BPower%5Be%2C-bx%5D%2CPower%5B%5C%2840%291%2BPower%5Be%2C-bx%5D%5C%2841%29%2C2%5D%5D%2C%7Bx%2C0%2C1%7D%5D). De nuevo, hemos asumido que $\\beta \\neq 0$ cuando dividimos por dicho valor. Mirando la expresión inicial de $L_{1NN}$ es sencillo darse cuenta de que $L_{1NN}=\\frac{1}{2}$ para este valor crítico.\n",
    "\n",
    "A continuación comparamos este valor con el error Bayes calculado en el apartado anterior. En particular mostraremos que se cumple la siguiente desigualdad:\n",
    "\n",
    "$$\n",
    "    L^* \\le L_{1NN} \\le 2 L^* (1 - L^*)\n",
    "$$\n",
    "\n",
    "Para ello mostramos una gráfica en `R` de estas variables en función de $\\beta$:"
   ]
  },
  {
   "cell_type": "code",
   "execution_count": 17,
   "id": "6bbb6b1a",
   "metadata": {},
   "outputs": [
    {
     "data": {
      "image/png": "[encoded data removed]",
      "text/plain": [
       "Plot with title \"L* and L_1NN comparisson\""
      ]
     },
     "metadata": {
      "image/png": {
       "height": 420,
       "width": 420
      }
     },
     "output_type": "display_data"
    }
   ],
   "source": [
    "x1 <- (-40:-1)\n",
    "x2 <- (1:40)\n",
    "x <- (-40:40)\n",
    "L_star <- c(1 + 1/x1 * log( (1+exp(-x1))/2 ), 1/2,\n",
    "            -1/x2 *log( (1+exp(-x2))/2 ))\n",
    "L_1NN <- c(tanh(x1/2)/x1, 1/2, tanh(x2/2)/x2)\n",
    "L_star_upper_bound <- 2*L_star*(1-L_star)\n",
    "\n",
    "plot(x, L_star, type = \"l\",col=\"red\", main=\"L* and L_1NN comparisson\",\n",
    "     xlab=\"β\", ylab=\"\", las=1)\n",
    "lines(x, L_1NN, col=\"blue\")\n",
    "lines(x, L_star_upper_bound, col=\"green\")\n",
    "\n",
    "legend(\"topright\",col=c(\"green\", \"blue\", \"red\"), legend=c(\"2 L* (1-L*)\", \"L_1NN\", \"L*\"),\n",
    "       lwd=3, bty = \"n\")"
   ]
  },
  {
   "cell_type": "markdown",
   "id": "2644e939",
   "metadata": {},
   "source": [
    "<div class=\"exercise\">\n",
    "<h1> Ejercicio 6</h1> <a href='#Ejercicio-6' class='anchor-link'>¶</a>\n",
    "\n",
    "En un experimento descrito en Prentice (1976) se expuso una muestra de escarabajos a cierto pesticida. Tras cinco horas de exposición a distintos niveles de concentración del pesticida algunos de los escarabajos murieron y otros sobrevivieron. Los resultados para cada dosis aparecen en la tabla siguiente: <br>\n",
    "\n",
    "<style type=\"text/css\">\n",
    " padding: 10px;\n",
    ".tg  {border-collapse:collapse;border-spacing:0;}\n",
    ".tg td{border-color:black;border-style:solid;border-width:1px;font-family:Arial, sans-serif;font-size:14px;\n",
    "  overflow:hidden;padding:10px 5px;word-break:normal;}\n",
    ".tg th{border-color:black;border-style:solid;border-width:1px;font-family:Arial, sans-serif;font-size:14px;\n",
    "  font-weight:normal;overflow:hidden;padding:10px 5px;word-break:normal;}\n",
    ".tg .tg-1wig{font-weight:bold;text-align:left;vertical-align:top}\n",
    ".tg .tg-0lax{text-align:left;vertical-align:top}\n",
    "</style>\n",
    "<table class=\"tg\">\n",
    "<thead>\n",
    "  <tr>\n",
    "    <th class=\"tg-0lax\">Dosis (log10 CS2mgl−1)</th>\n",
    "    <th class=\"tg-0lax\">N. insectos</th>\n",
    "    <th class=\"tg-0lax\">N. muertos</th>\n",
    "  </tr>\n",
    "</thead>\n",
    "<tbody>\n",
    "  <tr>\n",
    "    <td class=\"tg-0lax\">1.6907</td>\n",
    "    <td class=\"tg-0lax\">59</td>\n",
    "    <td class=\"tg-0lax\">6</td>\n",
    "  </tr>\n",
    "  <tr>\n",
    "    <td class=\"tg-0lax\">1.7242</td>\n",
    "    <td class=\"tg-0lax\">60</td>\n",
    "    <td class=\"tg-0lax\">13</td>\n",
    "  </tr>\n",
    "  <tr>\n",
    "    <td class=\"tg-0lax\">1.7552</td>\n",
    "    <td class=\"tg-0lax\">62</td>\n",
    "    <td class=\"tg-0lax\">18</td>\n",
    "  </tr>\n",
    "  <tr>\n",
    "    <td class=\"tg-0lax\">1.7842</td>\n",
    "    <td class=\"tg-0lax\">56</td>\n",
    "    <td class=\"tg-0lax\">28</td>\n",
    "  </tr>\n",
    "  <tr>\n",
    "    <td class=\"tg-0lax\">1.8113</td>\n",
    "    <td class=\"tg-0lax\">63</td>\n",
    "    <td class=\"tg-0lax\">52</td>\n",
    "  </tr>\n",
    "  <tr>\n",
    "    <td class=\"tg-0lax\">1.8369</td>\n",
    "    <td class=\"tg-0lax\">59</td>\n",
    "    <td class=\"tg-0lax\">53</td>\n",
    "  </tr>\n",
    "  <tr>\n",
    "    <td class=\"tg-0lax\">1.8610</td>\n",
    "    <td class=\"tg-0lax\">61</td>\n",
    "    <td class=\"tg-0lax\">62</td>\n",
    "  </tr>\n",
    "  <tr>\n",
    "    <td class=\"tg-0lax\">1.8839</td>\n",
    "    <td class=\"tg-0lax\">60</td>\n",
    "    <td class=\"tg-0lax\">60</td>\n",
    "  </tr>\n",
    "</tbody>\n",
    "</table>\n",
    "\n",
    "Formula un modelo de regresión logística para analizar estos datos y estima la probabilidad de que muera un escarabajo expuesto durante cinco horas a una dosis de concentración $1.8$.\n",
    "</div>"
   ]
  },
  {
   "cell_type": "markdown",
   "id": "dfa0a382",
   "metadata": {},
   "source": [
    "### Solución\n",
    "\n",
    "Para predecir la probabilidad de muerte del escarabajo dada la dosis definimos dos variables aleatorias:\n",
    "\n",
    "- $ Y \\equiv$ probabilidad de muerte del escarabajo tras cinco horas.\n",
    "- $ X \\equiv$ Dosis suministrada.\n",
    "\n",
    "Computaremos la probabilidad de muerte como el cociente del número de muertos entre el número de insectos y utilizaremos un modelo de regresión logística:\n",
    "\n",
    "$$\n",
    "    \\eta(x) = \\mathbb P[Y=1 | X] = f(\\beta_0 + x\\beta_1) = \\frac{1}{1 + e^{-\\beta_0 -x \\beta_1}}    \n",
    "$$\n",
    "\n",
    "Para obtener los valores de $\\beta_0$ y $\\beta_1$ ajustamos el modelo haciendo uso de la función de `R` `glm()`, que hace referencia a *generalized linear model*. Este modelo genérico incluye a la regresión logística añadiendo `family=quasibinomial` como parámetro. Este valor es equivalente a la familia `binomial` pero utilizando números en coma flotante como entrada en vez de valores entero `0,1`. El modelo no varía pero evitamos un *warning* de R.\n",
    "\n",
    "En primer lugar, cargamos los datos y computamos el porcentaje de escarabajos muertos que utilizaremos para la predicción."
   ]
  },
  {
   "cell_type": "code",
   "execution_count": 19,
   "id": "56cbfbe1",
   "metadata": {},
   "outputs": [
    {
     "data": {
      "text/html": [
       "<table class=\"dataframe\">\n",
       "<caption>A data.frame: 8 × 4</caption>\n",
       "<thead>\n",
       "\t<tr><th scope=col>dosis</th><th scope=col>n_insectos</th><th scope=col>n_muertos</th><th scope=col>porcentaje_muertos</th></tr>\n",
       "\t<tr><th scope=col>&lt;dbl&gt;</th><th scope=col>&lt;int&gt;</th><th scope=col>&lt;int&gt;</th><th scope=col>&lt;dbl&gt;</th></tr>\n",
       "</thead>\n",
       "<tbody>\n",
       "\t<tr><td>1.6907</td><td>59</td><td> 6</td><td>0.1016949</td></tr>\n",
       "\t<tr><td>1.7242</td><td>60</td><td>13</td><td>0.2166667</td></tr>\n",
       "\t<tr><td>1.7552</td><td>62</td><td>18</td><td>0.2903226</td></tr>\n",
       "\t<tr><td>1.7842</td><td>56</td><td>28</td><td>0.5000000</td></tr>\n",
       "\t<tr><td>1.8113</td><td>63</td><td>52</td><td>0.8253968</td></tr>\n",
       "\t<tr><td>1.8369</td><td>59</td><td>53</td><td>0.8983051</td></tr>\n",
       "\t<tr><td>1.8610</td><td>62</td><td>61</td><td>0.9838710</td></tr>\n",
       "\t<tr><td>1.8839</td><td>60</td><td>60</td><td>1.0000000</td></tr>\n",
       "</tbody>\n",
       "</table>\n"
      ],
      "text/latex": [
       "A data.frame: 8 × 4\n",
       "\\begin{tabular}{llll}\n",
       " dosis & n\\_insectos & n\\_muertos & porcentaje\\_muertos\\\\\n",
       " <dbl> & <int> & <int> & <dbl>\\\\\n",
       "\\hline\n",
       "\t 1.6907 & 59 &  6 & 0.1016949\\\\\n",
       "\t 1.7242 & 60 & 13 & 0.2166667\\\\\n",
       "\t 1.7552 & 62 & 18 & 0.2903226\\\\\n",
       "\t 1.7842 & 56 & 28 & 0.5000000\\\\\n",
       "\t 1.8113 & 63 & 52 & 0.8253968\\\\\n",
       "\t 1.8369 & 59 & 53 & 0.8983051\\\\\n",
       "\t 1.8610 & 62 & 61 & 0.9838710\\\\\n",
       "\t 1.8839 & 60 & 60 & 1.0000000\\\\\n",
       "\\end{tabular}\n"
      ],
      "text/markdown": [
       "\n",
       "A data.frame: 8 × 4\n",
       "\n",
       "| dosis &lt;dbl&gt; | n_insectos &lt;int&gt; | n_muertos &lt;int&gt; | porcentaje_muertos &lt;dbl&gt; |\n",
       "|---|---|---|---|\n",
       "| 1.6907 | 59 |  6 | 0.1016949 |\n",
       "| 1.7242 | 60 | 13 | 0.2166667 |\n",
       "| 1.7552 | 62 | 18 | 0.2903226 |\n",
       "| 1.7842 | 56 | 28 | 0.5000000 |\n",
       "| 1.8113 | 63 | 52 | 0.8253968 |\n",
       "| 1.8369 | 59 | 53 | 0.8983051 |\n",
       "| 1.8610 | 62 | 61 | 0.9838710 |\n",
       "| 1.8839 | 60 | 60 | 1.0000000 |\n",
       "\n"
      ],
      "text/plain": [
       "  dosis  n_insectos n_muertos porcentaje_muertos\n",
       "1 1.6907 59          6        0.1016949         \n",
       "2 1.7242 60         13        0.2166667         \n",
       "3 1.7552 62         18        0.2903226         \n",
       "4 1.7842 56         28        0.5000000         \n",
       "5 1.8113 63         52        0.8253968         \n",
       "6 1.8369 59         53        0.8983051         \n",
       "7 1.8610 62         61        0.9838710         \n",
       "8 1.8839 60         60        1.0000000         "
      ]
     },
     "metadata": {},
     "output_type": "display_data"
    }
   ],
   "source": [
    "# Leemos los datos y computamos el porcentaje de escarabajos muertos\n",
    "escarabajos_df <- read.table('datos/escarabajos.txt', header=TRUE, sep=' ', )\n",
    "escarabajos_df <- transform(escarabajos_df, porcentaje_muertos = n_muertos / n_insectos)\n",
    "escarabajos_df"
   ]
  },
  {
   "cell_type": "markdown",
   "id": "bd93238d",
   "metadata": {},
   "source": [
    "Ajustamos el modelo de regresión logística."
   ]
  },
  {
   "cell_type": "code",
   "execution_count": 20,
   "id": "5378a4d6",
   "metadata": {},
   "outputs": [
    {
     "data": {
      "text/plain": [
       "\n",
       "Call:\n",
       "glm(formula = porcentaje_muertos ~ dosis, family = quasibinomial, \n",
       "    data = escarabajos_df)\n",
       "\n",
       "Deviance Residuals: \n",
       "     Min        1Q    Median        3Q       Max  \n",
       "-0.20933  -0.04659   0.10858   0.16310   0.20807  \n",
       "\n",
       "Coefficients:\n",
       "            Estimate Std. Error t value Pr(>|t|)    \n",
       "(Intercept)  -60.459      6.701  -9.023 0.000104 ***\n",
       "dosis         34.121      3.766   9.059 0.000101 ***\n",
       "---\n",
       "Signif. codes:  0 '***' 0.001 '**' 0.01 '*' 0.05 '.' 0.1 ' ' 1\n",
       "\n",
       "(Dispersion parameter for quasibinomial family taken to be 0.02798728)\n",
       "\n",
       "    Null deviance: 4.71186  on 7  degrees of freedom\n",
       "Residual deviance: 0.18871  on 6  degrees of freedom\n",
       "AIC: NA\n",
       "\n",
       "Number of Fisher Scoring iterations: 5\n"
      ]
     },
     "metadata": {},
     "output_type": "display_data"
    }
   ],
   "source": [
    "# Definimos y ajustamos el modelo\n",
    "reg = glm(porcentaje_muertos~dosis, family=quasibinomial, data=escarabajos_df)\n",
    "summary(reg)"
   ]
  },
  {
   "cell_type": "markdown",
   "id": "0f02f90b",
   "metadata": {},
   "source": [
    "Obteniendo el siguiente modelo final:\n",
    "\n",
    "$$\n",
    "    \\eta(x) = \\mathbb P[Y=1 | X] = \\frac{1}{1 + e^{-60.46 -34.12x  }}    \n",
    "$$\n",
    "\n",
    "Recordemos que predeciremos que el escarabajo muere si $\\eta(x) \\ge \\frac{1}{2}$. Para realizar nuestra predicción de la probabilidad utilizamos `predict()` con el parámetro `type=response` (en caso de no utilizarlo obtenemos como salida el valor $\\eta(x) / (1 - \\eta(x))$ en vez de simplemente $\\eta(x)$)."
   ]
  },
  {
   "cell_type": "code",
   "execution_count": 21,
   "id": "fb7e7152",
   "metadata": {},
   "outputs": [
    {
     "data": {
      "text/html": [
       "<strong>1:</strong> 0.722983749412583"
      ],
      "text/latex": [
       "\\textbf{1:} 0.722983749412583"
      ],
      "text/markdown": [
       "**1:** 0.722983749412583"
      ],
      "text/plain": [
       "        1 \n",
       "0.7229837 "
      ]
     },
     "metadata": {},
     "output_type": "display_data"
    }
   ],
   "source": [
    "datos <- data.frame(dosis = c(1.8))\n",
    "predict(reg, datos, type = 'response')"
   ]
  },
  {
   "cell_type": "markdown",
   "id": "fe119c42",
   "metadata": {},
   "source": [
    "Predecimos así una probabilidad del $0.7229$ de que un escarabajo con dosis $1.8$ muera en el trascurso de cinco horas. Finalmente, podemos mostrar una gráfica con nuestro datos y el modelo ajustado obtenido, que como sabemos es una función logística. Pintamos también una línea vertical en el valor a predecir, $1.8$, así como una línea horizontal en la predicción, $0.7229$."
   ]
  },
  {
   "cell_type": "code",
   "execution_count": 22,
   "id": "8b9e4cab",
   "metadata": {},
   "outputs": [
    {
     "data": {
      "image/png": "[encoded data removed]",
      "text/plain": [
       "plot without title"
      ]
     },
     "metadata": {
      "image/png": {
       "height": 420,
       "width": 420
      }
     },
     "output_type": "display_data"
    }
   ],
   "source": [
    "datos <- data.frame(dosis = seq(-1, 2.5, 0.0001))\n",
    "datos$probs <- predict(reg, datos, type = 'response')\n",
    "plot(escarabajos_df$dosis, escarabajos_df$porcentaje_muertos, pch=4)\n",
    "lines(datos$dosis, datos$probs, col = 'blue', lwd = 2)\n",
    "abline(v=1.8)\n",
    "abline(h=0.722983749412583)"
   ]
  }
 ],
 "metadata": {
  "kernelspec": {
   "display_name": "R",
   "language": "R",
   "name": "ir"
  },
  "language_info": {
   "codemirror_mode": "r",
   "file_extension": ".r",
   "mimetype": "text/x-r-source",
   "name": "R",
   "pygments_lexer": "r",
   "version": "3.6.2"
  }
 },
 "nbformat": 4,
 "nbformat_minor": 5
}
