{
 "cells": [
  {
   "cell_type": "code",
   "execution_count": 2,
   "id": "8c353a89",
   "metadata": {},
   "outputs": [],
   "source": [
    "options(warn=-1)\n",
    "shhh <- suppressPackageStartupMessages # It's a library, so shhh!\n",
    "\n",
    "shhh(library(glmnet))\n",
    "shhh(library(tidyverse))\n",
    "library(gapminder)\n",
    "library(comprehenr)\n",
    "library(ggplot2)\n",
    "library(dplyr)\n",
    "library(ggpubr)\n",
    "shhh(library(KernSmooth))\n",
    "\n",
    "theme_set(theme_bw())\n",
    "options(warn=0)"
   ]
  },
  {
   "cell_type": "markdown",
   "id": "c39514d7",
   "metadata": {},
   "source": [
    "### Ejercicio 1\n",
    "\n",
    "Los datos del fichero *Datos-geyser.txt* corresponden al día de la observación (primera columna), el tiempo medido en minutos (segunda columna $Y$ ) y el tiempo hasta la siguiente erupción (tercera columna $X$) del geyser *Old Faithful* en el parque norteamericano de Yellowstone.\n",
    "\n",
    "**a)** Representa gráficamente los datos, junto con el estimador de Nadaraya-Watson de la función de regresión de $Y$ sobre $X$.\n",
    "\n",
    "**b)** Representa gráficamente los datos, junto con el estimador localmente lineal de la función de regresión de $Y$ sobre $X$."
   ]
  },
  {
   "cell_type": "markdown",
   "id": "e9007a1a",
   "metadata": {},
   "source": [
    "Representaremos ambos estimadores en el mismo gráfico para apreciar mejor las disferencias entre ambos."
   ]
  },
  {
   "cell_type": "code",
   "execution_count": 3,
   "id": "56cbfbe1",
   "metadata": {},
   "outputs": [
    {
     "data": {
      "text/html": [
       "<table class=\"dataframe\">\n",
       "<caption>A data.frame: 6 × 3</caption>\n",
       "<thead>\n",
       "\t<tr><th></th><th scope=col>D</th><th scope=col>Y</th><th scope=col>X</th></tr>\n",
       "\t<tr><th></th><th scope=col>&lt;int&gt;</th><th scope=col>&lt;int&gt;</th><th scope=col>&lt;dbl&gt;</th></tr>\n",
       "</thead>\n",
       "<tbody>\n",
       "\t<tr><th scope=row>1</th><td>1</td><td>78</td><td>4.4</td></tr>\n",
       "\t<tr><th scope=row>2</th><td>1</td><td>74</td><td>3.9</td></tr>\n",
       "\t<tr><th scope=row>3</th><td>1</td><td>68</td><td>4.0</td></tr>\n",
       "\t<tr><th scope=row>4</th><td>1</td><td>76</td><td>4.0</td></tr>\n",
       "\t<tr><th scope=row>5</th><td>1</td><td>80</td><td>3.5</td></tr>\n",
       "\t<tr><th scope=row>6</th><td>1</td><td>84</td><td>4.1</td></tr>\n",
       "</tbody>\n",
       "</table>\n"
      ],
      "text/latex": [
       "A data.frame: 6 × 3\n",
       "\\begin{tabular}{r|lll}\n",
       "  & D & Y & X\\\\\n",
       "  & <int> & <int> & <dbl>\\\\\n",
       "\\hline\n",
       "\t1 & 1 & 78 & 4.4\\\\\n",
       "\t2 & 1 & 74 & 3.9\\\\\n",
       "\t3 & 1 & 68 & 4.0\\\\\n",
       "\t4 & 1 & 76 & 4.0\\\\\n",
       "\t5 & 1 & 80 & 3.5\\\\\n",
       "\t6 & 1 & 84 & 4.1\\\\\n",
       "\\end{tabular}\n"
      ],
      "text/markdown": [
       "\n",
       "A data.frame: 6 × 3\n",
       "\n",
       "| <!--/--> | D &lt;int&gt; | Y &lt;int&gt; | X &lt;dbl&gt; |\n",
       "|---|---|---|---|\n",
       "| 1 | 1 | 78 | 4.4 |\n",
       "| 2 | 1 | 74 | 3.9 |\n",
       "| 3 | 1 | 68 | 4.0 |\n",
       "| 4 | 1 | 76 | 4.0 |\n",
       "| 5 | 1 | 80 | 3.5 |\n",
       "| 6 | 1 | 84 | 4.1 |\n",
       "\n"
      ],
      "text/plain": [
       "  D Y  X  \n",
       "1 1 78 4.4\n",
       "2 1 74 3.9\n",
       "3 1 68 4.0\n",
       "4 1 76 4.0\n",
       "5 1 80 3.5\n",
       "6 1 84 4.1"
      ]
     },
     "metadata": {},
     "output_type": "display_data"
    }
   ],
   "source": [
    "geyser_df <- read.table('datos/Datos-geyser.txt', header=TRUE, sep=' ', )\n",
    "head(geyser_df)"
   ]
  },
  {
   "cell_type": "code",
   "execution_count": 4,
   "id": "dabb9ad5",
   "metadata": {},
   "outputs": [
    {
     "data": {
      "image/png": "[encoded data removed]",
      "text/plain": [
       "plot without title"
      ]
     },
     "metadata": {
      "image/png": {
       "height": 420,
       "width": 420
      }
     },
     "output_type": "display_data"
    }
   ],
   "source": [
    "n <- length(geyser_df$X)\n",
    "loc_lineal <- locpoly(geyser_df$X, geyser_df$Y, degree = 1, gridsize=n,\n",
    "                      bandwidth = dpill(geyser_df$X, geyser_df$Y))\n",
    "\n",
    "ggplot(geyser_df, aes(X, Y)) +\n",
    "  geom_point() +\n",
    "  geom_smooth(formula=y~x, method = 'loess', se = FALSE, span = 0.25, method.args = list(degree=0), aes(col='Nadaraya-Watson')) +\n",
    "  geom_smooth(formula=y~x, method = 'loess', se = FALSE, span = 0.25, method.args = list(degree=1), aes(col='Localmente lineal')) +\n",
    "  scale_colour_manual(\"\", breaks = c('Nadaraya-Watson', 'Localmente lineal'), values = c('red', 'blue')) +\n",
    "  labs(x = 'Duración de erupción (minutos)', y = 'Tiempo entre erupciones') +\n",
    "  theme(legend.justification=c(1,0), legend.position=c(1,0))"
   ]
  },
  {
   "cell_type": "markdown",
   "id": "1fbd622d",
   "metadata": {},
   "source": [
    "### Ejercicio 4\n",
    "\n",
    "Se considera el siguiente modelo de regresión lineal múltiple:\n",
    "\n",
    "$$\n",
    "\\begin{equation} \\label{eq:model} \\tag{1}\n",
    "    Y_i = \\beta_0 + \\beta_1 x_{i1} + \\beta_2 x_{i2} + \\beta_3 x_{i3} + \\epsilon_i, \\quad \\epsilon_i \\sim N(0, \\sigma^2), \\quad i\\in\\{1,\\ldots,n\\}\n",
    "\\end{equation}\n",
    "$$\n",
    "\n",
    "Se dispone de $n=20$ observaciones con las que se ajustan todos los posibles submodelos del modelo \\eqref{model}, obteniéndose para cada uno de ellos las siguientes sumas de cuadrados de los residuos (todos los submodelos incluyen un término independiente):\n",
    "\n",
    "| Variables incluidas en el modelo |          Coeficientes de regresión          |    SCR   |\n",
    "|:--------------------------------:|:-------------------------------------------:|:--------:|\n",
    "|    Sólo término independiente    |                  $\\beta_0$                  | 42644.00 |\n",
    "|               $x_1$              |            $\\beta_0$ y $\\beta_1$            |  8352.28 |\n",
    "|               $x_2$              |            $\\beta_0$ y $\\beta_2$            | 36253.69 |\n",
    "|               $x_3$              |            $\\beta_0$ y $\\beta_3$            | 36606.19 |\n",
    "|           $x_1$ y $x_2$          |       $\\beta_0$, $\\beta_1$ y $\\beta_2$      |  7713.13 |\n",
    "|           $x_1$ y $x_3$          |       $\\beta_0$, $\\beta_1$ y $\\beta_3$      |  762.55  |\n",
    "|           $x_2$ y $x_3$          |       $\\beta_0$, $\\beta_2$ y $\\beta_3$      | 32700.17 |\n",
    "|       $x_1$, $x_2$ y $x_3$       | $\\beta_0$, $\\beta_1$, $\\beta_2$ y $\\beta_3$ |  761.41  |\n",
    "\n",
    "\n",
    "**a)** Calcula la tabla de análisis de la varianza para el modelo \\eqref{eq:model} y contrasta a nivel $\\alpha = 0,05$ la hipótesis nula $H_0: \\beta_1 = \\beta_2 = \\beta_3 = 0$.\n",
    "\n",
    "**ab)** En el modelo \\eqref{eq:model} , contrasta a nivel $\\alpha = 0,05$ las dos hipótesis nulas siguientes:\n",
    "\n",
    "- $H_0: \\beta_2 = 0$\n",
    "- $H_0: \\beta_1 = \\beta_3 = 0$"
   ]
  },
  {
   "cell_type": "code",
   "execution_count": 5,
   "id": "55c740bc",
   "metadata": {},
   "outputs": [
    {
     "data": {
      "text/html": [
       "<table class=\"dataframe\">\n",
       "<caption>A data.frame: 2 × 6</caption>\n",
       "<thead>\n",
       "\t<tr><th scope=col>Source</th><th scope=col>Df</th><th scope=col>Sum_Sq</th><th scope=col>Mean_Sq</th><th scope=col>F_value</th><th scope=col>p_value</th></tr>\n",
       "\t<tr><th scope=col>&lt;fct&gt;</th><th scope=col>&lt;dbl&gt;</th><th scope=col>&lt;dbl&gt;</th><th scope=col>&lt;dbl&gt;</th><th scope=col>&lt;dbl&gt;</th><th scope=col>&lt;dbl&gt;</th></tr>\n",
       "</thead>\n",
       "<tbody>\n",
       "\t<tr><td>Complete model</td><td> 3</td><td>41882.59</td><td>13960.86333</td><td>293.3686</td><td>3.421043e-14</td></tr>\n",
       "\t<tr><td>Residuals     </td><td>16</td><td>  761.41</td><td>   47.58812</td><td>      NA</td><td>          NA</td></tr>\n",
       "</tbody>\n",
       "</table>\n"
      ],
      "text/latex": [
       "A data.frame: 2 × 6\n",
       "\\begin{tabular}{llllll}\n",
       " Source & Df & Sum\\_Sq & Mean\\_Sq & F\\_value & p\\_value\\\\\n",
       " <fct> & <dbl> & <dbl> & <dbl> & <dbl> & <dbl>\\\\\n",
       "\\hline\n",
       "\t Complete model &  3 & 41882.59 & 13960.86333 & 293.3686 & 3.421043e-14\\\\\n",
       "\t Residuals      & 16 &   761.41 &    47.58812 &       NA &           NA\\\\\n",
       "\\end{tabular}\n"
      ],
      "text/markdown": [
       "\n",
       "A data.frame: 2 × 6\n",
       "\n",
       "| Source &lt;fct&gt; | Df &lt;dbl&gt; | Sum_Sq &lt;dbl&gt; | Mean_Sq &lt;dbl&gt; | F_value &lt;dbl&gt; | p_value &lt;dbl&gt; |\n",
       "|---|---|---|---|---|---|\n",
       "| Complete model |  3 | 41882.59 | 13960.86333 | 293.3686 | 3.421043e-14 |\n",
       "| Residuals      | 16 |   761.41 |    47.58812 |       NA |           NA |\n",
       "\n"
      ],
      "text/plain": [
       "  Source         Df Sum_Sq   Mean_Sq     F_value  p_value     \n",
       "1 Complete model  3 41882.59 13960.86333 293.3686 3.421043e-14\n",
       "2 Residuals      16   761.41    47.58812       NA           NA"
      ]
     },
     "metadata": {},
     "output_type": "display_data"
    }
   ],
   "source": [
    "n <- 20\n",
    "p <- 3\n",
    "all_scrs <- c(42644, 8352.28, 36253.69, 36606.19, 7713.13, 762.55, 32700.17, 761.41)\n",
    "scr <- all_scrs[8]\n",
    "sce <- all_scrs[1] - scr\n",
    "\n",
    "source <- c(\"Complete model\", \"Residuals\")\n",
    "df <- c(p, n - p - 1)\n",
    "sum_sq <- c(sce, scr)\n",
    "mean_sq <- sum_sq/df\n",
    "f <- c(mean_sq[1]/mean_sq[2], NA)\n",
    "pr_f <- c(pf(f[1], df1=p, df2=n-p-1, lower.tail=FALSE), NA)\n",
    "\n",
    "variance_table <- data.frame(Source=source, Df=df, Sum_Sq=sum_sq, Mean_Sq=mean_sq, F_value=f, p_value=pr_f)\n",
    "variance_table"
   ]
  },
  {
   "cell_type": "markdown",
   "id": "ed5de896",
   "metadata": {},
   "source": [
    "**b) Caso $H_0: \\beta_2=0$.**"
   ]
  },
  {
   "cell_type": "code",
   "execution_count": 6,
   "id": "bac0f57d",
   "metadata": {},
   "outputs": [
    {
     "name": "stdout",
     "output_type": "stream",
     "text": [
      "[1] \"p-value:  7.50451101383861e-15\"\n"
     ]
    }
   ],
   "source": [
    "reduced_model_p_value <- function(total_scr, reduced_scr, n, p, k) {\n",
    "    numerator <- (reduced_scr - total_scr) / k\n",
    "    denominator <- total_scr / (n - p - 1)\n",
    "    pf(numerator/denominator, df1=k, df2=n-p-1, lower.tail=FALSE)\n",
    "}\n",
    "\n",
    "k <- 1\n",
    "print(paste('p-value: ', reduced_model_p_value(all_scrs[8], all_scrs[3], n, p, k)))"
   ]
  },
  {
   "cell_type": "markdown",
   "id": "ce78f9c1",
   "metadata": {},
   "source": [
    "Puesto que obtenemos un *p-value* de $\\approx 7.5 \\cdot 10^{-15} < 0.05$, rechazamos la hipótesis nula. Es decir, **la variable $x_2$ si es significativa para la predicción de $y$**."
   ]
  },
  {
   "cell_type": "markdown",
   "id": "3635b09b",
   "metadata": {},
   "source": [
    "**b) Caso $H_0: \\beta_1 = \\beta_3 = 0$.**"
   ]
  },
  {
   "cell_type": "code",
   "execution_count": 7,
   "id": "27d412eb",
   "metadata": {},
   "outputs": [
    {
     "name": "stdout",
     "output_type": "stream",
     "text": [
      "[1] \"p-value:  0.988102521110228\"\n"
     ]
    }
   ],
   "source": [
    "k <- 2\n",
    "print(paste('p-value: ',\n",
    "            reduced_model_p_value(all_scrs[8], all_scrs[6], n, p, k)))"
   ]
  },
  {
   "cell_type": "markdown",
   "id": "51490c33",
   "metadata": {},
   "source": [
    "Puesto que obtenemos un *p-value* de $\\approx 0.99 > 0.05$, no hay suficiente evidencia para rechazar la hipótesis nula. Es decir, **las variable $x_1$ y $x_3$ no son significativas para la predicción de $y$**."
   ]
  },
  {
   "cell_type": "markdown",
   "id": "1faa757c",
   "metadata": {},
   "source": [
    "### Ejercicio 6\n",
    "\n",
    "Sean $Y_1$, $Y_2$ e $Y_3$ tres variables aleatorias independientes con distribución normal y varianza $\\sigma^2$. Supongamos que $\\mu$ es la media de $Y_1$, $\\lambda$ es la media de $Y_2$ y $\\lambda + \\mu$ es la media de $Y_3$, donde $\\lambda, mu \\in \\mathbb R$.\n",
    "\n",
    "**a)** Demuestra que el vector $Y = (Y_1, Y_2, Y_3)'$0 verifica el modelo de regresión múltiple $Y = X\\beta + \\epsilon$. Para ello, determina la matriz de diseño $X$, el vector de parámetros $\\beta$ y la distribución de las variables de error $\\epsilon$."
   ]
  },
  {
   "cell_type": "markdown",
   "id": "3ad38eab",
   "metadata": {},
   "source": [
    "Podemos expresar el vector de variables independientes de la siguiente forma:\n",
    "\n",
    "$$\\begin{pmatrix}\n",
    "    Y_1 \\\\\n",
    "    Y_2 \\\\\n",
    "    Y_3 \\\\\n",
    "\\end{pmatrix} =\n",
    "\\underbrace{ \\begin{pmatrix}\n",
    "    1 & 0 \\\\\n",
    "    0 & 1 \\\\\n",
    "    1 & 1\n",
    "\\end{pmatrix} }_{X}\n",
    "\\underbrace{ \\begin{pmatrix}\n",
    "    \\mu \\\\\n",
    "    \\lambda\n",
    "\\end{pmatrix} }_{\\beta} +\n",
    "\\begin{pmatrix}\n",
    "    \\epsilon_1 \\\\\n",
    "    \\epsilon_2 \\\\\n",
    "    \\epsilon_3\n",
    "\\end{pmatrix} \\quad\n",
    "\\epsilon_i \\sim N(0, \\sigma^2)\n",
    "$$\n",
    "\n",
    "Obteniendo el siguiente modelo de regresión múltiple:\n",
    "\n",
    "$$\n",
    "   Y \\sim N(X\\beta, \\sigma^2 I)\n",
    "$$"
   ]
  },
  {
   "cell_type": "markdown",
   "id": "8f2a7d4e",
   "metadata": {},
   "source": [
    "**b)** Calcula los estimadores de máxima verosimilitud (equivalentemente, de mínimos cuadrados) de $\\lambda$ y $\\mu$."
   ]
  },
  {
   "cell_type": "markdown",
   "id": "ef36c37a",
   "metadata": {},
   "source": [
    "Sabemos que el estimador de mínimos cuadrados puede calcular utilizando la siguiente expresión:\n",
    "\n",
    "$$\n",
    "    \\hat \\beta = (X'X)^{-1}X'Y\n",
    "$$\n",
    "\n",
    "Sin embargo, para demostrar esta expresión en clase nos basamos en que la matriz de diseño tenía una columna de unos (el modelo tenía un término independiente $\\beta_0$). ¿Es ésta expresión cierta si el modelo carece de término independiente?\n",
    "\n",
    "La respuesta es afirmativa. Para obtenerla sin hacer uso de dicha hipótesis podemos simplemente obtener el valor que minimiza el error cuadrado mínimo derivando e igualando a $0$ en la siguiente expresión:\n",
    "\n",
    "$$\n",
    "    L(\\sigma, \\beta) = \\; \\parallel Y - X\\beta \\;\\parallel^2_2\n",
    "$$\n",
    "\n",
    "Las cuentas no son complicadas, puede consultarse la demostración completa en [Wikipedia](https://en.wikipedia.org/wiki/Least_squares#Linear_least_squares). Calculemos estos valores para nuestro caso particular:\n",
    "\n",
    "$$\n",
    "X'X =\n",
    "\\begin{pmatrix}\n",
    "    1 & 0 & 1 \\\\\n",
    "    0 & 1 & 1 \\\\\n",
    "\\end{pmatrix}\n",
    "\\begin{pmatrix}\n",
    "    1 & 0 \\\\\n",
    "    0 & 1 \\\\\n",
    "    1 & 1\n",
    "\\end{pmatrix} = \n",
    "\\begin{pmatrix}\n",
    "    2 & 1 \\\\\n",
    "    1 & 2\n",
    "\\end{pmatrix}\n",
    "$$\n",
    "\n",
    "$$\n",
    "(X'X)^{-1} = \\frac{1}{3}\n",
    "\\begin{pmatrix}\n",
    "    2 & -1 \\\\\n",
    "    -1 & 2\n",
    "\\end{pmatrix}\n",
    "$$\n",
    "\n",
    "$$\n",
    "(X'X)^{-1}X' = \\frac{1}{3}\n",
    "\\begin{pmatrix}\n",
    "    2 & -1 \\\\\n",
    "    -1 & 2\n",
    "\\end{pmatrix}\n",
    "\\begin{pmatrix}\n",
    "    1 & 0 & 1 \\\\\n",
    "    0 & 1 & 1 \\\\\n",
    "\\end{pmatrix} = \\frac{1}{3}\n",
    "\\begin{pmatrix}\n",
    "    2 & -1 & 1 \\\\\n",
    "    -1 & 2 & 1 \\\\\n",
    "\\end{pmatrix}\n",
    "$$\n",
    "\n",
    "$$\n",
    "\\hat \\beta = (X'X)^{-1}X'Y =\n",
    "\\begin{pmatrix}\n",
    "    2 & -1 & 1 \\\\\n",
    "    -1 & 2 & 1 \\\\\n",
    "\\end{pmatrix}\n",
    "\\begin{pmatrix}\n",
    "    Y_1 \\\\\n",
    "    Y_2 \\\\\n",
    "    Y_3 \\\\\n",
    "\\end{pmatrix} = \\frac{1}{3}\n",
    "\\begin{pmatrix}\n",
    "    2 Y_1 - Y_2 + Y_3 \\\\\n",
    "    -Y_1 + 2 Y_2 + Y_3\n",
    "\\end{pmatrix}\n",
    "$$\n"
   ]
  },
  {
   "cell_type": "markdown",
   "id": "f5d214f2",
   "metadata": {},
   "source": [
    "**c)** Calcula la distribución del vector $(\\hat \\lambda, \\hat \\mu)'$, formado por los estimadores calculados en el apartado anterior."
   ]
  },
  {
   "cell_type": "markdown",
   "id": "bfe0e0b4",
   "metadata": {},
   "source": [
    "Puesto que el vector de variables independientes cumple\n",
    "\n",
    "$$\n",
    "   Y \\sim N(X\\beta, \\sigma^2 I)\n",
    "$$\n",
    "\n",
    "Y sabiendo que $\\hat \\beta = (X'X)^{-1}X'Y$, obtenemos que $\\hat \\beta$ sigue una distribución normal multivariante:\n",
    "\n",
    "$$\n",
    "   \\hat \\beta \\sim N( ((X'X)^{-1}X') \\cdot X\\beta, ((X'X)^{-1}X') \\cdot \\sigma^2 I \\cdot ((X'X)^{-1}X')')\n",
    "$$\n",
    "\n",
    "Para la esperanza:\n",
    "\n",
    "$$\n",
    "    \\mathbb E [\\hat\\beta] = (X'X)^{-1}X' \\cdot X\\beta = (X'X)^{-1} \\cdot (X'X) \\beta = \\beta\n",
    "$$\n",
    "\n",
    "Luego el estimador es insesgado. Por otro lado, para la varianza hemos de ver que $X'X$ es simétrica (y por lo tanto su inversa también lo será):\n",
    "\n",
    "$$\n",
    "    (X'X)' = X'X'' = X'X\n",
    "$$\n",
    "\n",
    "Por lo tanto, la varianza cumple:\n",
    "\n",
    "$$\n",
    "\\begin{align}\n",
    "    \\text{Var}[\\hat\\beta] & = ((X'X)^{-1}X') \\cdot \\sigma^2 I \\cdot ((X'X)^{-1}X')' \\\\\n",
    "     & = \\sigma^2 (X'X)^{-1} (X'X) (X'X)^{-1} \\\\\n",
    "     & = \\sigma^2 (X'X)^{-1} \\\\\n",
    "\\end{align}\n",
    "$$\n",
    "\n",
    "Obtenemos así la expresión reducida de la distribución que siguen los estimadores:\n",
    "\n",
    "$$\n",
    "   \\hat \\beta \\sim N( \\beta, \\sigma^2(X'X)^{-1})\n",
    "$$"
   ]
  },
  {
   "cell_type": "markdown",
   "id": "57c12c11",
   "metadata": {},
   "source": [
    "### Ejercicio 10\n",
    "\n",
    "Los datos *fuel2001* del fichero *combustible.RData* corresponden al consumo de combustible (y otras variables relacionadas) en los estados de EE.UU.\n",
    "Se desea explicar la variable ***FuelC*** en función del resto de la información."
   ]
  },
  {
   "cell_type": "code",
   "execution_count": 8,
   "id": "611f2989",
   "metadata": {},
   "outputs": [
    {
     "data": {
      "text/html": [
       "<table class=\"dataframe\">\n",
       "<caption>A data.frame: 6 × 7</caption>\n",
       "<thead>\n",
       "\t<tr><th></th><th scope=col>Drivers</th><th scope=col>FuelC</th><th scope=col>Income</th><th scope=col>Miles</th><th scope=col>MPC</th><th scope=col>Pop</th><th scope=col>Tax</th></tr>\n",
       "\t<tr><th></th><th scope=col>&lt;int&gt;</th><th scope=col>&lt;int&gt;</th><th scope=col>&lt;int&gt;</th><th scope=col>&lt;int&gt;</th><th scope=col>&lt;dbl&gt;</th><th scope=col>&lt;int&gt;</th><th scope=col>&lt;dbl&gt;</th></tr>\n",
       "</thead>\n",
       "<tbody>\n",
       "\t<tr><th scope=row>AL</th><td> 3559897</td><td> 2382507</td><td>23471</td><td> 94440</td><td>12737.00</td><td> 3451586</td><td>18.0</td></tr>\n",
       "\t<tr><th scope=row>AK</th><td>  472211</td><td>  235400</td><td>30064</td><td> 13628</td><td> 7639.16</td><td>  457728</td><td> 8.0</td></tr>\n",
       "\t<tr><th scope=row>AZ</th><td> 3550367</td><td> 2428430</td><td>25578</td><td> 55245</td><td> 9411.55</td><td> 3907526</td><td>18.0</td></tr>\n",
       "\t<tr><th scope=row>AR</th><td> 1961883</td><td> 1358174</td><td>22257</td><td> 98132</td><td>11268.40</td><td> 2072622</td><td>21.7</td></tr>\n",
       "\t<tr><th scope=row>CA</th><td>21623793</td><td>14691753</td><td>32275</td><td>168771</td><td> 8923.89</td><td>25599275</td><td>18.0</td></tr>\n",
       "\t<tr><th scope=row>CO</th><td> 3287922</td><td> 2048664</td><td>32949</td><td> 85854</td><td> 9722.73</td><td> 3322455</td><td>22.0</td></tr>\n",
       "</tbody>\n",
       "</table>\n"
      ],
      "text/latex": [
       "A data.frame: 6 × 7\n",
       "\\begin{tabular}{r|lllllll}\n",
       "  & Drivers & FuelC & Income & Miles & MPC & Pop & Tax\\\\\n",
       "  & <int> & <int> & <int> & <int> & <dbl> & <int> & <dbl>\\\\\n",
       "\\hline\n",
       "\tAL &  3559897 &  2382507 & 23471 &  94440 & 12737.00 &  3451586 & 18.0\\\\\n",
       "\tAK &   472211 &   235400 & 30064 &  13628 &  7639.16 &   457728 &  8.0\\\\\n",
       "\tAZ &  3550367 &  2428430 & 25578 &  55245 &  9411.55 &  3907526 & 18.0\\\\\n",
       "\tAR &  1961883 &  1358174 & 22257 &  98132 & 11268.40 &  2072622 & 21.7\\\\\n",
       "\tCA & 21623793 & 14691753 & 32275 & 168771 &  8923.89 & 25599275 & 18.0\\\\\n",
       "\tCO &  3287922 &  2048664 & 32949 &  85854 &  9722.73 &  3322455 & 22.0\\\\\n",
       "\\end{tabular}\n"
      ],
      "text/markdown": [
       "\n",
       "A data.frame: 6 × 7\n",
       "\n",
       "| <!--/--> | Drivers &lt;int&gt; | FuelC &lt;int&gt; | Income &lt;int&gt; | Miles &lt;int&gt; | MPC &lt;dbl&gt; | Pop &lt;int&gt; | Tax &lt;dbl&gt; |\n",
       "|---|---|---|---|---|---|---|---|\n",
       "| AL |  3559897 |  2382507 | 23471 |  94440 | 12737.00 |  3451586 | 18.0 |\n",
       "| AK |   472211 |   235400 | 30064 |  13628 |  7639.16 |   457728 |  8.0 |\n",
       "| AZ |  3550367 |  2428430 | 25578 |  55245 |  9411.55 |  3907526 | 18.0 |\n",
       "| AR |  1961883 |  1358174 | 22257 |  98132 | 11268.40 |  2072622 | 21.7 |\n",
       "| CA | 21623793 | 14691753 | 32275 | 168771 |  8923.89 | 25599275 | 18.0 |\n",
       "| CO |  3287922 |  2048664 | 32949 |  85854 |  9722.73 |  3322455 | 22.0 |\n",
       "\n"
      ],
      "text/plain": [
       "   Drivers  FuelC    Income Miles  MPC      Pop      Tax \n",
       "AL  3559897  2382507 23471   94440 12737.00  3451586 18.0\n",
       "AK   472211   235400 30064   13628  7639.16   457728  8.0\n",
       "AZ  3550367  2428430 25578   55245  9411.55  3907526 18.0\n",
       "AR  1961883  1358174 22257   98132 11268.40  2072622 21.7\n",
       "CA 21623793 14691753 32275  168771  8923.89 25599275 18.0\n",
       "CO  3287922  2048664 32949   85854  9722.73  3322455 22.0"
      ]
     },
     "metadata": {},
     "output_type": "display_data"
    }
   ],
   "source": [
    "datos <- 'http://verso.mat.uam.es/~joser.berrendero/datos/combustible.RData'\n",
    "load(url(datos))\n",
    "head(fuel2001)"
   ]
  },
  {
   "cell_type": "markdown",
   "id": "d3ff3daf",
   "metadata": {},
   "source": [
    "**a)** Representa en un plano las dos primeras componentes principales de estos datos estandarizados (consulta la ayuda de *prcomp*). ¿Son suficientes estas dos componentes para explicar un alto porcentaje de la varianza?"
   ]
  },
  {
   "cell_type": "markdown",
   "id": "aba133c8",
   "metadata": {},
   "source": [
    "En primer lugar, hemos de aclarar que como nuestro objetivo final es predecir la variable *FuelC*, la quitamos de nuestro conjunto de datos para hacer PCA. Si la mantuviésemos, las componentes principales no se podrían utilizar para predecir dicha variable ya que ya la contienen. Si simplemente quisiésemos realizar una análisis de PCA sobre los datos para hacer, por ejemplo, cluestering, mantendríamos dicha variable. He tomado esta decisión porque en el enunciado no aclara que debamos quitarlo, pero tiene sentido para nuestra aplicación final.\n",
    "\n",
    "Utilizamos la función de R *prcomp* sugerida en el enunciado con los parámetros *center* y *scale.* para normalizar las variables antes de computar el análisos. Pintamos a continuación las dos primeras componentes principales:"
   ]
  },
  {
   "cell_type": "code",
   "execution_count": 9,
   "id": "ee979d83",
   "metadata": {},
   "outputs": [
    {
     "data": {
      "image/png": "[encoded data removed]",
      "text/plain": [
       "plot without title"
      ]
     },
     "metadata": {
      "image/png": {
       "height": 420,
       "width": 420
      }
     },
     "output_type": "display_data"
    }
   ],
   "source": [
    "fuel2001_without_FuelC <- data.frame(fuel2001)\n",
    "fuel2001_without_FuelC$FuelC <- NULL\n",
    "pca <- prcomp(fuel2001_without_FuelC, center=TRUE, scale.=TRUE)\n",
    "\n",
    "ggplot(as.data.frame(pca$x), aes(PC1, PC2)) +\n",
    "    geom_point(color=\"steelblue\") +\n",
    "    labs(x='PC1', y='PC2') +\n",
    "    theme_minimal()"
   ]
  },
  {
   "cell_type": "markdown",
   "id": "8b431589",
   "metadata": {},
   "source": [
    "Como se aprecia en el gráfico, los puntos están relativamente separados. Este es el objetivo principal de PCA: maximizar la distancia entre puntos (la varianza) utilizando un conjunto mínimo de variables, siendo éstas combinaciones lineales de las orginales. Utilizamos *summary* para ver los resultados numéricos del PCA."
   ]
  },
  {
   "cell_type": "code",
   "execution_count": 10,
   "id": "c8dd4ff3",
   "metadata": {},
   "outputs": [
    {
     "data": {
      "text/plain": [
       "Importance of components:\n",
       "                          PC1    PC2    PC3     PC4     PC5     PC6\n",
       "Standard deviation     1.6518 1.2593 0.9968 0.63696 0.53093 0.06854\n",
       "Proportion of Variance 0.4547 0.2643 0.1656 0.06762 0.04698 0.00078\n",
       "Cumulative Proportion  0.4547 0.7190 0.8846 0.95224 0.99922 1.00000"
      ]
     },
     "metadata": {},
     "output_type": "display_data"
    },
    {
     "data": {
      "image/png": "[encoded data removed]",
      "text/plain": [
       "plot without title"
      ]
     },
     "metadata": {
      "image/png": {
       "height": 420,
       "width": 420
      }
     },
     "output_type": "display_data"
    }
   ],
   "source": [
    "summary(pca)\n",
    "\n",
    "pov <- summary(pca)$importance[2,]\n",
    "names <- c(paste('PC', 1:6))\n",
    "proportions_df <- data.frame(PC=names, Proportion_of_variance=pov)\n",
    "\n",
    "ggplot(proportions_df, aes(x=PC, y=Proportion_of_variance)) +\n",
    "    geom_bar(stat=\"identity\", fill=\"steelblue\") +\n",
    "    theme_minimal()"
   ]
  },
  {
   "cell_type": "markdown",
   "id": "b1d76c64",
   "metadata": {},
   "source": [
    "Obtenemos así un $71.90\\%$ de varianza explicada utilizando únicamente 2 componentes principales.\n",
    "\n",
    "Si repetimos este análisis añadiendo la variable *FuelC* obtenemos 7 componentes principales en vez de 6, y la dos primeras explican un $75.47\\%$ de la varianza."
   ]
  },
  {
   "cell_type": "markdown",
   "id": "f388d9db",
   "metadata": {},
   "source": [
    "**b)** Ajusta el modelo completo con todas las variables. En este modelo completo, contrasta la hipótesis nula de que los coeficientes de las variables **Income**, **MPC** y **Tax** son simultáneamente iguales a cero."
   ]
  },
  {
   "cell_type": "markdown",
   "id": "eecf34cc",
   "metadata": {},
   "source": [
    "Como vimos en el ejercicio 4, para comprobar este tipo de hipótesis hemos de ajustar ambnos modelos (completo y reducido), y utilizar el siguiente estadístico:\n",
    "\n",
    "$$\n",
    "    F = \\frac{ (SCR_0 - SCR) / k }{ SCR / (n - p - 1) }\n",
    "$$\n",
    "\n",
    "Nuestro *p-value* será:\n",
    "\n",
    "$$\n",
    "    \\mathbb P [F_{k;n-p-1} \\ge F]\n",
    "$$"
   ]
  },
  {
   "cell_type": "code",
   "execution_count": 11,
   "id": "b7ba4e17",
   "metadata": {},
   "outputs": [
    {
     "data": {
      "text/plain": [
       "\n",
       "Call:\n",
       "lm(formula = FuelC ~ ., data = fuel2001)\n",
       "\n",
       "Residuals:\n",
       "     Min       1Q   Median       3Q      Max \n",
       "-1480910  -158802    19267   174208  1090089 \n",
       "\n",
       "Coefficients:\n",
       "              Estimate Std. Error t value Pr(>|t|)    \n",
       "(Intercept) -4.902e+05  8.199e+05  -0.598 0.552983    \n",
       "Drivers      6.368e-01  1.452e-01   4.386 7.09e-05 ***\n",
       "Income       7.690e+00  1.632e+01   0.471 0.639793    \n",
       "Miles        5.850e+00  1.621e+00   3.608 0.000784 ***\n",
       "MPC          4.562e+01  3.565e+01   1.280 0.207337    \n",
       "Pop         -1.945e-02  1.245e-01  -0.156 0.876586    \n",
       "Tax         -2.087e+04  1.324e+04  -1.576 0.122235    \n",
       "---\n",
       "Signif. codes:  0 '***' 0.001 '**' 0.01 '*' 0.05 '.' 0.1 ' ' 1\n",
       "\n",
       "Residual standard error: 398400 on 44 degrees of freedom\n",
       "Multiple R-squared:  0.9808,\tAdjusted R-squared:  0.9782 \n",
       "F-statistic: 374.6 on 6 and 44 DF,  p-value: < 2.2e-16\n"
      ]
     },
     "metadata": {},
     "output_type": "display_data"
    }
   ],
   "source": [
    "complete_model <- lm(FuelC ~ ., data=fuel2001)\n",
    "summary(complete_model)"
   ]
  },
  {
   "cell_type": "code",
   "execution_count": 12,
   "id": "027933ce",
   "metadata": {
    "scrolled": true
   },
   "outputs": [
    {
     "data": {
      "text/plain": [
       "\n",
       "Call:\n",
       "lm(formula = FuelC ~ Drivers + Miles + Pop, data = fuel2001)\n",
       "\n",
       "Residuals:\n",
       "     Min       1Q   Median       3Q      Max \n",
       "-1486667  -209534    25497   186536  1083358 \n",
       "\n",
       "Coefficients:\n",
       "              Estimate Std. Error t value Pr(>|t|)    \n",
       "(Intercept) -2.374e+05  1.047e+05  -2.268 0.027964 *  \n",
       "Drivers      7.156e-01  1.446e-01   4.949 9.98e-06 ***\n",
       "Miles        6.125e+00  1.472e+00   4.161 0.000134 ***\n",
       "Pop         -8.879e-02  1.229e-01  -0.722 0.473593    \n",
       "---\n",
       "Signif. codes:  0 '***' 0.001 '**' 0.01 '*' 0.05 '.' 0.1 ' ' 1\n",
       "\n",
       "Residual standard error: 408800 on 47 degrees of freedom\n",
       "Multiple R-squared:  0.9784,\tAdjusted R-squared:  0.977 \n",
       "F-statistic: 709.9 on 3 and 47 DF,  p-value: < 2.2e-16\n"
      ]
     },
     "metadata": {},
     "output_type": "display_data"
    }
   ],
   "source": [
    "reduced_model <- lm(FuelC ~ Drivers + Miles + Pop, data=fuel2001)\n",
    "summary(reduced_model)"
   ]
  },
  {
   "cell_type": "code",
   "execution_count": 13,
   "id": "9679168d",
   "metadata": {
    "scrolled": true
   },
   "outputs": [
    {
     "name": "stdout",
     "output_type": "stream",
     "text": [
      "[1] \"p-value:  0.765503347571403\"\n"
     ]
    },
    {
     "data": {
      "text/html": [
       "<table class=\"dataframe\">\n",
       "<caption>A anova: 2 × 6</caption>\n",
       "<thead>\n",
       "\t<tr><th></th><th scope=col>Res.Df</th><th scope=col>RSS</th><th scope=col>Df</th><th scope=col>Sum of Sq</th><th scope=col>F</th><th scope=col>Pr(&gt;F)</th></tr>\n",
       "\t<tr><th></th><th scope=col>&lt;dbl&gt;</th><th scope=col>&lt;dbl&gt;</th><th scope=col>&lt;dbl&gt;</th><th scope=col>&lt;dbl&gt;</th><th scope=col>&lt;dbl&gt;</th><th scope=col>&lt;dbl&gt;</th></tr>\n",
       "</thead>\n",
       "<tbody>\n",
       "\t<tr><th scope=row>1</th><td>44</td><td>6.984313e+12</td><td>NA</td><td>           NA</td><td>      NA</td><td>       NA</td></tr>\n",
       "\t<tr><th scope=row>2</th><td>47</td><td>7.855597e+12</td><td>-3</td><td>-871284719267</td><td>1.829649</td><td>0.1556908</td></tr>\n",
       "</tbody>\n",
       "</table>\n"
      ],
      "text/latex": [
       "A anova: 2 × 6\n",
       "\\begin{tabular}{r|llllll}\n",
       "  & Res.Df & RSS & Df & Sum of Sq & F & Pr(>F)\\\\\n",
       "  & <dbl> & <dbl> & <dbl> & <dbl> & <dbl> & <dbl>\\\\\n",
       "\\hline\n",
       "\t1 & 44 & 6.984313e+12 & NA &            NA &       NA &        NA\\\\\n",
       "\t2 & 47 & 7.855597e+12 & -3 & -871284719267 & 1.829649 & 0.1556908\\\\\n",
       "\\end{tabular}\n"
      ],
      "text/markdown": [
       "\n",
       "A anova: 2 × 6\n",
       "\n",
       "| <!--/--> | Res.Df &lt;dbl&gt; | RSS &lt;dbl&gt; | Df &lt;dbl&gt; | Sum of Sq &lt;dbl&gt; | F &lt;dbl&gt; | Pr(&gt;F) &lt;dbl&gt; |\n",
       "|---|---|---|---|---|---|---|\n",
       "| 1 | 44 | 6.984313e+12 | NA |            NA |       NA |        NA |\n",
       "| 2 | 47 | 7.855597e+12 | -3 | -871284719267 | 1.829649 | 0.1556908 |\n",
       "\n"
      ],
      "text/plain": [
       "  Res.Df RSS          Df Sum of Sq     F        Pr(>F)   \n",
       "1 44     6.984313e+12 NA            NA       NA        NA\n",
       "2 47     7.855597e+12 -3 -871284719267 1.829649 0.1556908"
      ]
     },
     "metadata": {},
     "output_type": "display_data"
    }
   ],
   "source": [
    "scr_complete <- summary(complete_model)$sigma\n",
    "scr_reduced <- summary(reduced_model)$sigma\n",
    "n <- nrow(fuel2001)\n",
    "p <- 6\n",
    "k <- 3\n",
    "\n",
    "print(paste('p-value: ', reduced_model_p_value(scr_complete, scr_reduced, n, p, k)))\n",
    "\n",
    "anova(complete_model, reduced_model)"
   ]
  },
  {
   "cell_type": "markdown",
   "id": "fccdc5ad",
   "metadata": {},
   "source": [
    "Puesto que obtenemos un *p-value* de $0.1557 \\gg 0.05$, no tenemos evidentas suficientes para rechazar la hipótesis nula."
   ]
  },
  {
   "cell_type": "markdown",
   "id": "70c5dc7b",
   "metadata": {},
   "source": [
    "**c)** De acuerdo con el método iterativo hacia adelante y el criterio BIC, ¿cúal es el modelo óptimo?"
   ]
  },
  {
   "cell_type": "code",
   "execution_count": 14,
   "id": "517e36f7",
   "metadata": {},
   "outputs": [
    {
     "data": {
      "text/plain": [
       "Subset selection object\n",
       "Call: regsubsets.formula(FuelC ~ ., data = fuel2001, method = \"forward\")\n",
       "6 Variables  (and intercept)\n",
       "        Forced in Forced out\n",
       "Drivers     FALSE      FALSE\n",
       "Income      FALSE      FALSE\n",
       "Miles       FALSE      FALSE\n",
       "MPC         FALSE      FALSE\n",
       "Pop         FALSE      FALSE\n",
       "Tax         FALSE      FALSE\n",
       "1 subsets of each size up to 6\n",
       "Selection Algorithm: forward\n",
       "         Drivers Income Miles MPC Pop Tax\n",
       "1  ( 1 ) \"*\"     \" \"    \" \"   \" \" \" \" \" \"\n",
       "2  ( 1 ) \"*\"     \" \"    \"*\"   \" \" \" \" \" \"\n",
       "3  ( 1 ) \"*\"     \" \"    \"*\"   \" \" \" \" \"*\"\n",
       "4  ( 1 ) \"*\"     \" \"    \"*\"   \"*\" \" \" \"*\"\n",
       "5  ( 1 ) \"*\"     \"*\"    \"*\"   \"*\" \" \" \"*\"\n",
       "6  ( 1 ) \"*\"     \"*\"    \"*\"   \"*\" \"*\" \"*\""
      ]
     },
     "metadata": {},
     "output_type": "display_data"
    },
    {
     "data": {
      "image/png": "[encoded data removed]",
      "text/plain": [
       "plot without title"
      ]
     },
     "metadata": {
      "image/png": {
       "height": 420,
       "width": 420
      }
     },
     "output_type": "display_data"
    }
   ],
   "source": [
    "iterative_model <- leaps::regsubsets(FuelC ~ ., data=fuel2001, method='forward')\n",
    "\n",
    "summary(iterative_model)\n",
    "plot(summary(iterative_model)$bic,\n",
    "     xlab=\"Número de variables\", \n",
    "     ylab=\"BIC\", type=\"l\")"
   ]
  },
  {
   "cell_type": "markdown",
   "id": "7bfcf810",
   "metadata": {},
   "source": [
    "El modelo que minimiza el criterio BIC es aquel con tres variables. Como podemos ver en el resumen, el mejor modelo con variables en el método iterativo es aquel que utiliza unicamente ***Drivers***, ***Miles*** y ***Tax***."
   ]
  },
  {
   "cell_type": "markdown",
   "id": "e767687e",
   "metadata": {},
   "source": [
    "**d)** Ajusta el modelo usando lasso, con el parámetro de regularización seleccionado mediante validación cruzada."
   ]
  },
  {
   "cell_type": "code",
   "execution_count": 60,
   "id": "8d8a154b",
   "metadata": {
    "scrolled": true
   },
   "outputs": [
    {
     "data": {
      "text/plain": [
       "\n",
       "Call:  cv.glmnet(x = x, y = y, alpha = 1) \n",
       "\n",
       "Measure: Mean-Squared Error \n",
       "\n",
       "    Lambda Index   Measure        SE Nonzero\n",
       "min  15772    56 3.307e+11 1.484e+11       4\n",
       "1se 234210    27 4.655e+11 1.998e+11       2"
      ]
     },
     "metadata": {},
     "output_type": "display_data"
    }
   ],
   "source": [
    "set.seed(123)\n",
    "x <- as.matrix(fuel2001_without_FuelC)\n",
    "y <- fuel2001$FuelC\n",
    "lasso_model_cv <- cv.glmnet(x, y, alpha=1) # alpha=1 es lasso\n",
    "lasso_model_cv"
   ]
  },
  {
   "cell_type": "markdown",
   "id": "c55adf40",
   "metadata": {},
   "source": [
    "Vemos así los valores de $\\lambda$ obtenidos en validación cruzada, donde *Measure* es la desviación típica, el valor por defecto.\n",
    "\n",
    "El $\\lambda_{min}$ es aquel valor de $\\lambda$ que minimiza la media del error en validación cruzada. El $\\lambda_{1se}$ es tal que el error esta a una desviación típica del error. Utilizaremos $\\lambda_{min}$ ya que minimiza el error a pesar de ser más restrictivo (introducir más sesgo).\n",
    "\n",
    "Merece la pena destacar que hemos fijado la semilla. Al aplicar validación cruzada obteníamos valores muy variables para ambos lambdas, de esta forma los resultados son completamente reproducibles."
   ]
  },
  {
   "cell_type": "code",
   "execution_count": 62,
   "id": "63518ad4",
   "metadata": {},
   "outputs": [
    {
     "data": {
      "text/plain": [
       "7 x 1 sparse Matrix of class \"dgCMatrix\"\n",
       "                       s0\n",
       "(Intercept) -1.048244e+05\n",
       "Drivers      6.132198e-01\n",
       "Income       .           \n",
       "Miles        5.525452e+00\n",
       "MPC          2.987686e+01\n",
       "Pop          .           \n",
       "Tax         -1.945966e+04"
      ]
     },
     "metadata": {},
     "output_type": "display_data"
    }
   ],
   "source": [
    "lambda_lasso <- lasso_model_cv$lambda.min\n",
    "final_lasso_model <- glmnet(x, y, alpha=1, lambda=lambda_lasso) # alpha=1 es lasso\n",
    "coef(final_lasso_model)"
   ]
  },
  {
   "cell_type": "markdown",
   "id": "967bd961",
   "metadata": {},
   "source": [
    "Como podemos ver, ajustado lasso de esta forma mantenemos las variables ***Drivers***, ***Miles***, ***MPC*** y ***Tax***."
   ]
  },
  {
   "cell_type": "markdown",
   "id": "daa87b08",
   "metadata": {},
   "source": [
    "**e)** Ajusta el modelo usando **ridge**, con el parámetro de regularización seleccionado mediante validación cruzada."
   ]
  },
  {
   "cell_type": "code",
   "execution_count": 63,
   "id": "705306f1",
   "metadata": {},
   "outputs": [
    {
     "data": {
      "text/plain": [
       "\n",
       "Call:  cv.glmnet(x = x, y = y, alpha = 0) \n",
       "\n",
       "Measure: Mean-Squared Error \n",
       "\n",
       "    Lambda Index   Measure        SE Nonzero\n",
       "min 263094   100 2.909e+11 1.179e+11       6\n",
       "1se 732075    89 4.033e+11 1.869e+11       6"
      ]
     },
     "metadata": {},
     "output_type": "display_data"
    }
   ],
   "source": [
    "set.seed(123)\n",
    "ridge_model_cv <- cv.glmnet(x, y, alpha=0) # alpha=0 es ridge\n",
    "ridge_model_cv"
   ]
  },
  {
   "cell_type": "code",
   "execution_count": 64,
   "id": "82e79065",
   "metadata": {},
   "outputs": [
    {
     "data": {
      "text/plain": [
       "7 x 1 sparse Matrix of class \"dgCMatrix\"\n",
       "                       s0\n",
       "(Intercept) -4.336052e+05\n",
       "Drivers      4.627274e-01\n",
       "Income       7.555968e+00\n",
       "Miles        5.861386e+00\n",
       "MPC          4.889985e+01\n",
       "Pop          1.265333e-01\n",
       "Tax         -2.366901e+04"
      ]
     },
     "metadata": {},
     "output_type": "display_data"
    }
   ],
   "source": [
    "lambda_ridge <- lasso_model_cv$lambda.min\n",
    "final_ridge_model <- glmnet(x, y, alpha=0, lambda=lambda_ridge) # alpha=0 es ridge\n",
    "coef(final_ridge_model)"
   ]
  },
  {
   "cell_type": "markdown",
   "id": "835244b1",
   "metadata": {},
   "source": [
    "Obtenemos un valor de $\\lambda_{min}$ mucho mayor: $263094$ en vez de $15772$. El modelo final es mucho menos restrictivo, manteniendo todas las variables."
   ]
  }
 ],
 "metadata": {
  "kernelspec": {
   "display_name": "R",
   "language": "R",
   "name": "ir"
  },
  "language_info": {
   "codemirror_mode": "r",
   "file_extension": ".r",
   "mimetype": "text/x-r-source",
   "name": "R",
   "pygments_lexer": "r",
   "version": "3.6.2"
  }
 },
 "nbformat": 4,
 "nbformat_minor": 5
}
