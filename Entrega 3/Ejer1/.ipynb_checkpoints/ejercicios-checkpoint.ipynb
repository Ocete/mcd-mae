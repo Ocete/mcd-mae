{
 "cells": [
  {
   "cell_type": "code",
   "execution_count": 1,
   "id": "8c353a89",
   "metadata": {},
   "outputs": [],
   "source": [
    "options(warn=-1)\n",
    "shhh <- suppressPackageStartupMessages # It's a library, so shhh!\n",
    "\n",
    "shhh(library(tidyverse))\n",
    "library(gapminder)\n",
    "library(comprehenr)\n",
    "library(ggplot2)\n",
    "library(dplyr)\n",
    "library(ggpubr)\n",
    "shhh(library(KernSmooth))\n",
    "\n",
    "theme_set(theme_bw())\n",
    "options(warn=0)"
   ]
  },
  {
   "cell_type": "code",
   "execution_count": 9,
   "id": "56cbfbe1",
   "metadata": {},
   "outputs": [
    {
     "data": {
      "image/png": "[encoded data removed]",
      "text/plain": [
       "plot without title"
      ]
     },
     "metadata": {
      "image/png": {
       "height": 420,
       "width": 420
      }
     },
     "output_type": "display_data"
    }
   ],
   "source": [
    "geyser_df <- read.table('datos/Datos-geyser.txt', header=TRUE, sep=' ', )\n",
    "n <- length(geyser_df$X)\n",
    "loc_lineal <- locpoly(geyser_df$X, geyser_df$Y, degree = 1, gridsize=n,\n",
    "                      bandwidth = dpill(geyser_df$X, geyser_df$Y))\n",
    "\n",
    "ggplot(geyser_df, aes(X, Y)) +\n",
    "  geom_point() +\n",
    "  geom_smooth(formula=y~x, method = 'loess', se = FALSE, span = 0.25, method.args = list(degree=0), aes(col='Nadaraya-Watson')) +\n",
    "  geom_smooth(formula=y~x, method = 'loess', se = FALSE, span = 0.25, method.args = list(degree=1), aes(col='Localmente lineal')) +\n",
    "  scale_colour_manual(\"\", breaks = c('Nadaraya-Watson', 'Localmente lineal'), values = c('red', 'blue')) +\n",
    "  labs(x = 'Duración de erupción (minutos)', y = 'Tiempo entre erupciones') +\n",
    "  theme(legend.justification=c(1,0), legend.position=c(1,0))"
   ]
  },
  {
   "cell_type": "markdown",
   "id": "1fbd622d",
   "metadata": {},
   "source": [
    "### Ejercicio 4\n",
    "\n",
    "**a)**\n",
    "\n",
    "| Variables incluidas en el modelo |          Coeficientes de regresión          |    SCR   |\n",
    "|:--------------------------------:|:-------------------------------------------:|:--------:|\n",
    "|    Sólo término independiente    |                  $\\beta_0$                  | 42644.00 |\n",
    "|               $x_1$              |            $\\beta_0$ y $\\beta_1$            |  8352.28 |\n",
    "|               $x_2$              |            $\\beta_0$ y $\\beta_2$            | 36253.69 |\n",
    "|               $x_3$              |            $\\beta_0$ y $\\beta_3$            | 36606.19 |\n",
    "|           $x_1$ y $x_2$          |       $\\beta_0$, $\\beta_1$ y $\\beta_2$      |  7713.13 |\n",
    "|           $x_1$ y $x_3$          |       $\\beta_0$, $\\beta_1$ y $\\beta_3$      |  762.55  |\n",
    "|           $x_2$ y $x_3$          |       $\\beta_0$, $\\beta_2$ y $\\beta_3$      | 32700.17 |\n",
    "|       $x_1$, $x_2$ y $x_3$       | $\\beta_0$, $\\beta_1$, $\\beta_2$ y $\\beta_3$ |  761.41  |"
   ]
  },
  {
   "cell_type": "code",
   "execution_count": 3,
   "id": "55c740bc",
   "metadata": {},
   "outputs": [
    {
     "data": {
      "text/html": [
       "<table class=\"dataframe\">\n",
       "<caption>A data.frame: 2 × 6</caption>\n",
       "<thead>\n",
       "\t<tr><th scope=col>Source</th><th scope=col>Df</th><th scope=col>Sum_Sq</th><th scope=col>Mean_Sq</th><th scope=col>F_value</th><th scope=col>p_value</th></tr>\n",
       "\t<tr><th scope=col>&lt;fct&gt;</th><th scope=col>&lt;dbl&gt;</th><th scope=col>&lt;dbl&gt;</th><th scope=col>&lt;dbl&gt;</th><th scope=col>&lt;dbl&gt;</th><th scope=col>&lt;dbl&gt;</th></tr>\n",
       "</thead>\n",
       "<tbody>\n",
       "\t<tr><td>Complete model</td><td> 3</td><td>41882.59</td><td>13960.86333</td><td>293.3686</td><td>3.421043e-14</td></tr>\n",
       "\t<tr><td>Residuals     </td><td>16</td><td>  761.41</td><td>   47.58812</td><td>      NA</td><td>          NA</td></tr>\n",
       "</tbody>\n",
       "</table>\n"
      ],
      "text/latex": [
       "A data.frame: 2 × 6\n",
       "\\begin{tabular}{llllll}\n",
       " Source & Df & Sum\\_Sq & Mean\\_Sq & F\\_value & p\\_value\\\\\n",
       " <fct> & <dbl> & <dbl> & <dbl> & <dbl> & <dbl>\\\\\n",
       "\\hline\n",
       "\t Complete model &  3 & 41882.59 & 13960.86333 & 293.3686 & 3.421043e-14\\\\\n",
       "\t Residuals      & 16 &   761.41 &    47.58812 &       NA &           NA\\\\\n",
       "\\end{tabular}\n"
      ],
      "text/markdown": [
       "\n",
       "A data.frame: 2 × 6\n",
       "\n",
       "| Source &lt;fct&gt; | Df &lt;dbl&gt; | Sum_Sq &lt;dbl&gt; | Mean_Sq &lt;dbl&gt; | F_value &lt;dbl&gt; | p_value &lt;dbl&gt; |\n",
       "|---|---|---|---|---|---|\n",
       "| Complete model |  3 | 41882.59 | 13960.86333 | 293.3686 | 3.421043e-14 |\n",
       "| Residuals      | 16 |   761.41 |    47.58812 |       NA |           NA |\n",
       "\n"
      ],
      "text/plain": [
       "  Source         Df Sum_Sq   Mean_Sq     F_value  p_value     \n",
       "1 Complete model  3 41882.59 13960.86333 293.3686 3.421043e-14\n",
       "2 Residuals      16   761.41    47.58812       NA           NA"
      ]
     },
     "metadata": {},
     "output_type": "display_data"
    }
   ],
   "source": [
    "n <- 20\n",
    "p <- 3\n",
    "all_scrs <- c(42644, 8352.28, 36253.69, 36606.19, 7713.13, 762.55, 32700.17, 761.41)\n",
    "scr <- all_scrs[8]\n",
    "sce <- all_scrs[1] - scr\n",
    "\n",
    "source <- c(\"Complete model\", \"Residuals\")\n",
    "df <- c(p, n - p - 1)\n",
    "sum_sq <- c(sce, scr)\n",
    "mean_sq <- sum_sq/df\n",
    "f <- c(mean_sq[1]/mean_sq[2], NA)\n",
    "pr_f <- c(pf(f[1], df1=p, df2=n-p-1, lower.tail=FALSE), NA)\n",
    "\n",
    "variance_table <- data.frame(Source=source, Df=df, Sum_Sq=sum_sq, Mean_Sq=mean_sq, F_value=f, p_value=pr_f)\n",
    "variance_table"
   ]
  },
  {
   "cell_type": "markdown",
   "id": "ed5de896",
   "metadata": {},
   "source": [
    "**b) Caso $H_0: \\beta_2=0$.**"
   ]
  },
  {
   "cell_type": "code",
   "execution_count": 11,
   "id": "bac0f57d",
   "metadata": {},
   "outputs": [
    {
     "name": "stdout",
     "output_type": "stream",
     "text": [
      "[1] \"p-value:  7.50451101383861e-15\"\n"
     ]
    }
   ],
   "source": [
    "reduced_model_p_value <- function(total_scr, reduced_scr, n, p, k) {\n",
    "    numerator <- (reduced_scr - total_scr) / k\n",
    "    denominator <- total_scr / (n - p - 1)\n",
    "    pf(numerator/denominator, df1=k, df2=n-p-1, lower.tail=FALSE)\n",
    "}\n",
    "\n",
    "k <- 1\n",
    "print(paste('p-value: ', reduced_model_p_value(all_scrs[8], all_scrs[3], n, p, k)))"
   ]
  },
  {
   "cell_type": "markdown",
   "id": "ce78f9c1",
   "metadata": {},
   "source": [
    "Puesto que obtenemos un *p-value* de $\\approx 7.5 \\cdot 10^{-15} < 0.05$, rechazamos la hipótesis nula. Es decir, **la variable $x_2$ si es significativa para la predicción de $y$**."
   ]
  },
  {
   "cell_type": "markdown",
   "id": "3635b09b",
   "metadata": {},
   "source": [
    "**b) Caso $H_0: \\beta_1 = \\beta_3 = 0$.**"
   ]
  },
  {
   "cell_type": "code",
   "execution_count": 12,
   "id": "27d412eb",
   "metadata": {},
   "outputs": [
    {
     "name": "stdout",
     "output_type": "stream",
     "text": [
      "[1] \"p-value:  0.988102521110228\"\n"
     ]
    }
   ],
   "source": [
    "k <- 2\n",
    "print(paste('p-value: ', reduced_model_p_value(all_scrs[8], all_scrs[6], n, p, k)))"
   ]
  },
  {
   "cell_type": "markdown",
   "id": "51490c33",
   "metadata": {},
   "source": [
    "Puesto que obtenemos un *p-value* de $\\approx 0.99 > 0.05$, no hay suficiente evidencia para rechazar la hipótesis nula. Es decir, **las variable $x_1$ y $x_3$ no son significativas para la predicción de $y$**."
   ]
  },
  {
   "cell_type": "markdown",
   "id": "1faa757c",
   "metadata": {},
   "source": [
    "### Ejercicio 6\n",
    "\n",
    "Sean $Y_1$, $Y_2$ e $Y_3$ tres variables aleatorias independientes con distribución normal y varianza $\\sigma^2$. Supongamos que $\\mu$ es la media de $Y_1$, $\\lambda$ es la media de $Y_2$ y $\\lambda + \\mu$ es la media de $Y_3$, donde $\\lambda, mu \\in \\mathbb R$.\n",
    "\n",
    "**a)** Demuestra que el vector $Y = (Y_1, Y_2, Y_3)'$0 verifica el modelo de regresión múltiple $Y = X\\beta + \\epsilon$. Para ello, determina la matriz de diseño $X$, el vector de parámetros $\\beta$ y la distribución de las variables de error $\\epsilon$."
   ]
  },
  {
   "cell_type": "markdown",
   "id": "941ce9e9",
   "metadata": {},
   "source": [
    "Podemos expresar el vector de variables independientes de la siguiente forma:\n",
    "\n",
    "$$\\begin{pmatrix}\n",
    "    Y_1 \\\\\n",
    "    Y_2 \\\\\n",
    "    Y_3 \\\\\n",
    "\\end{pmatrix} =\n",
    "\\underbrace{ \\begin{pmatrix}\n",
    "    1 & 0 \\\\\n",
    "    0 & 1 \\\\\n",
    "    1 & 1\n",
    "\\end{pmatrix} }_{X}\n",
    "\\underbrace{ \\begin{pmatrix}\n",
    "    \\mu \\\\\n",
    "    \\lambda\n",
    "\\end{pmatrix} }_{\\beta} +\n",
    "\\begin{pmatrix}\n",
    "    \\epsilon_1 \\\\\n",
    "    \\epsilon_2 \\\\\n",
    "    \\epsilon_3\n",
    "\\end{pmatrix} \\quad\n",
    "\\epsilon_i \\sim N(0, \\sigma^2)\n",
    "$$\n",
    "\n",
    "Obteniendo el siguiente modelo de regresión múltiple:\n",
    "\n",
    "$$\n",
    "   Y \\sim N(X\\beta, \\sigma^2 I)\n",
    "$$"
   ]
  },
  {
   "cell_type": "markdown",
   "id": "8f2a7d4e",
   "metadata": {},
   "source": [
    "**b)** Calcula los estimadores de máxima verosimilitud (equivalentemente, de mínimos cuadrados) de $\\lambda$ y $\\mu$."
   ]
  },
  {
   "cell_type": "markdown",
   "id": "6e497328",
   "metadata": {},
   "source": [
    "Sabemos que el estimador de mínimos cuadrados puede calcular utilizando la siguiente expresión:\n",
    "\n",
    "$$\n",
    "    \\hat \\beta = (X'X)^{-1}X'Y\n",
    "$$\n",
    "\n",
    "Sin embargo, para demostrar esta expresión en clase nos basamos en que la matriz de diseño tenía una columna de unos (el modelo tenía un término independiente $\\beta_0$). ¿Es ésta expresión cierta si el modelo carece de término independiente?\n",
    "\n",
    "La respuesta es afirmativa. Para obtenerla sin hacer uso de dicha hipótesis podemos simplemente obtener el valor que minimiza el error cuadrado mínimo derivando e igualando a $0$ en la siguiente expresión:\n",
    "\n",
    "$$\n",
    "    L(\\sigma, \\beta) = \\; \\parallel Y - X\\beta \\;\\parallel^2_2\n",
    "$$\n",
    "\n",
    "Las cuentas no son complicadas, puede consultarse la demostración completa en [Wikipedia](https://en.wikipedia.org/wiki/Least_squares#Linear_least_squares). Calculemos estos valores para nuestro caso particular:\n",
    "\n",
    "$$\n",
    "X'X =\n",
    "\\begin{pmatrix}\n",
    "    1 & 0 & 1 \\\\\n",
    "    0 & 1 & 1 \\\\\n",
    "\\end{pmatrix}\n",
    "\\begin{pmatrix}\n",
    "    1 & 0 \\\\\n",
    "    0 & 1 \\\\\n",
    "    1 & 1\n",
    "\\end{pmatrix} = \n",
    "\\begin{pmatrix}\n",
    "    2 & 1 \\\\\n",
    "    1 & 2\n",
    "\\end{pmatrix}\n",
    "$$\n",
    "\n",
    "$$\n",
    "(X'X)^{-1} = \\frac{1}{3}\n",
    "\\begin{pmatrix}\n",
    "    2 & -1 \\\\\n",
    "    -1 & 2\n",
    "\\end{pmatrix}\n",
    "$$\n",
    "\n",
    "$$\n",
    "(X'X)^{-1}X' = \\frac{1}{3}\n",
    "\\begin{pmatrix}\n",
    "    2 & -1 \\\\\n",
    "    -1 & 2\n",
    "\\end{pmatrix}\n",
    "\\begin{pmatrix}\n",
    "    1 & 0 & 1 \\\\\n",
    "    0 & 1 & 1 \\\\\n",
    "\\end{pmatrix} = \\frac{1}{3}\n",
    "\\begin{pmatrix}\n",
    "    2 & -1 & 1 \\\\\n",
    "    -1 & 2 & 1 \\\\\n",
    "\\end{pmatrix}\n",
    "$$\n",
    "\n",
    "$$\n",
    "\\hat \\beta = (X'X)^{-1}X'Y =\n",
    "\\begin{pmatrix}\n",
    "    2 & -1 & 1 \\\\\n",
    "    -1 & 2 & 1 \\\\\n",
    "\\end{pmatrix}\n",
    "\\begin{pmatrix}\n",
    "    Y_1 \\\\\n",
    "    Y_2 \\\\\n",
    "    Y_3 \\\\\n",
    "\\end{pmatrix} = \\frac{1}{3}\n",
    "\\begin{pmatrix}\n",
    "    2 Y_1 - Y_2 + Y_3 \\\\\n",
    "    -Y_1 + 2 Y_2 + Y_3\n",
    "\\end{pmatrix}\n",
    "$$\n"
   ]
  },
  {
   "cell_type": "markdown",
   "id": "f5d214f2",
   "metadata": {},
   "source": [
    "**c)** Calcula la distribución del vector $(\\hat \\lambda, \\hat \\mu)'$, formado por los estimadores calculados en el apartado anterior."
   ]
  }
 ],
 "metadata": {
  "kernelspec": {
   "display_name": "R",
   "language": "R",
   "name": "ir"
  },
  "language_info": {
   "codemirror_mode": "r",
   "file_extension": ".r",
   "mimetype": "text/x-r-source",
   "name": "R",
   "pygments_lexer": "r",
   "version": "3.6.2"
  }
 },
 "nbformat": 4,
 "nbformat_minor": 5
}
